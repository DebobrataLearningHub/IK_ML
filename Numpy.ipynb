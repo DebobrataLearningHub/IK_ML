{
 "cells": [
  {
   "cell_type": "code",
   "execution_count": 3,
   "id": "0fa16bcb-cc92-4fd1-9ab9-dec8a0567b9f",
   "metadata": {},
   "outputs": [
    {
     "name": "stdout",
     "output_type": "stream",
     "text": [
      "1\n",
      "(6,)\n",
      "6\n",
      "int32\n"
     ]
    }
   ],
   "source": [
    "import numpy as np\n",
    "\n",
    "arr =np.array([1,2,3,4,5,6])\n",
    "\n",
    "# Represrnt the diamention of the array\n",
    "print(arr.ndim)\n",
    "# Size of the array in each diamention\n",
    "print(arr.shape)\n",
    "# Total number of element in the array , suppose row = 2 and column =3 then size will be 2*3 = 6\n",
    "print(arr.size)\n",
    "#dtype is the element data type inside array\n",
    "print(arr.dtype)\n"
   ]
  },
  {
   "cell_type": "code",
   "execution_count": 4,
   "id": "dd1d3c2c-1ada-47e3-8e9f-7d50c1ef967b",
   "metadata": {},
   "outputs": [
    {
     "data": {
      "text/plain": [
       "array([[1, 2],\n",
       "       [3, 4],\n",
       "       [5, 6]])"
      ]
     },
     "execution_count": 4,
     "metadata": {},
     "output_type": "execute_result"
    }
   ],
   "source": [
    "#reshape will convert the array in new shape with same number of element as the original array\n",
    "\n",
    "arr.reshape(3,2)"
   ]
  },
  {
   "cell_type": "code",
   "execution_count": 8,
   "id": "1b610e2c-3e5b-427b-9b1e-70dc5b667c9f",
   "metadata": {},
   "outputs": [
    {
     "name": "stdout",
     "output_type": "stream",
     "text": [
      "[0. 0. 0. 0. 0. 0. 0. 0. 0. 0.]\n",
      "[0 0 0 0 0 0 0 0 0 0]\n"
     ]
    }
   ],
   "source": [
    "#Create array with zero \n",
    "\n",
    "arr_zero = np.zeros(10)\n",
    "\n",
    "print(arr_zero)\n",
    "\n",
    "#Create array with zero interger type\n",
    "arr_zero = np.zeros(10,dtype=np.int64)\n",
    "print(arr_zero)"
   ]
  },
  {
   "cell_type": "code",
   "execution_count": 10,
   "id": "021fa82c-7c4e-43c7-aaa0-c0e3072e0fc5",
   "metadata": {},
   "outputs": [
    {
     "name": "stdout",
     "output_type": "stream",
     "text": [
      "[1 1 1 1 1 1 1 1 1 1]\n"
     ]
    }
   ],
   "source": [
    "#Create array with ones\n",
    "arr_ones = np.ones(10,dtype=np.int64)\n",
    "print(arr_ones)"
   ]
  },
  {
   "cell_type": "code",
   "execution_count": 11,
   "id": "707e532f-d9bb-413b-9db1-6cd759090762",
   "metadata": {},
   "outputs": [
    {
     "name": "stdout",
     "output_type": "stream",
     "text": [
      "[2 4 6 8]\n"
     ]
    }
   ],
   "source": [
    "#Create array with arange(start,end,step count)\n",
    "\n",
    "arr_2 = np.arange(2,10,2)\n",
    "print(arr_2)"
   ]
  },
  {
   "cell_type": "code",
   "execution_count": 56,
   "id": "d717ed6a-27e7-408d-8463-3f65d8fcf26c",
   "metadata": {},
   "outputs": [
    {
     "name": "stdout",
     "output_type": "stream",
     "text": [
      "[ 0.   2.5  5.   7.5 10. ]\n",
      "[ 0.  5. 10. 15. 20.]\n"
     ]
    }
   ],
   "source": [
    "#Create array with linspace(start,end,number of values in array)\n",
    "arr_3 = np.linspace(0,10,5)\n",
    "print(arr_3)\n",
    "\n",
    "arr_4 = np.linspace(0,20,5)\n",
    "print(arr_4)"
   ]
  },
  {
   "cell_type": "code",
   "execution_count": null,
   "id": "057987a4-8b9e-4663-836e-d1c06e7cb76d",
   "metadata": {},
   "outputs": [],
   "source": []
  },
  {
   "cell_type": "code",
   "execution_count": null,
   "id": "c80d0ed5-be76-4204-b733-9057399876a8",
   "metadata": {},
   "outputs": [],
   "source": []
  },
  {
   "cell_type": "code",
   "execution_count": 18,
   "id": "2f47db67-f54b-42e3-a6ca-83a2b3f12c13",
   "metadata": {},
   "outputs": [
    {
     "name": "stdout",
     "output_type": "stream",
     "text": [
      "[ 1  2  3  5 10 14 15]\n",
      "[ 2 10  1 14  3 15  5]\n"
     ]
    }
   ],
   "source": [
    "#sort element in array\n",
    "arr_4 = np.array([2,10,1,14,3,15,5])\n",
    "\n",
    "#sort the array is a copy of array , original array will be remain unchanged\n",
    "print(np.sort(arr_4))\n",
    "\n",
    "print(arr_4)\n",
    "\n",
    "#Add element in an array\n"
   ]
  },
  {
   "cell_type": "code",
   "execution_count": 23,
   "id": "b71af86f-13eb-4a35-b5cb-3e395175fc32",
   "metadata": {},
   "outputs": [
    {
     "data": {
      "text/plain": [
       "array([[1, 2],\n",
       "       [3, 4],\n",
       "       [5, 6]])"
      ]
     },
     "execution_count": 23,
     "metadata": {},
     "output_type": "execute_result"
    }
   ],
   "source": [
    "#concat 2 array\n",
    "\n",
    "x = np.array([[1,2],[3,4]])\n",
    "y = np.array([[5,6]])\n",
    "\n",
    "np.concatenate((x,y),axis =0) #Axis 0 means join array by row menas increase number of row , number of colun will remain same\n"
   ]
  },
  {
   "cell_type": "code",
   "execution_count": 30,
   "id": "b57e09a7-760d-4b39-b024-b4637b69954f",
   "metadata": {},
   "outputs": [],
   "source": [
    "# Array arithmetic operation\n",
    "\n",
    "x = np.array([1,2])\n",
    "y = np.ones(2,dtype=np.int64)\n"
   ]
  },
  {
   "cell_type": "code",
   "execution_count": 31,
   "id": "62fc41e7-d3b1-44ea-a4f7-b5e7a06b2ffa",
   "metadata": {},
   "outputs": [
    {
     "data": {
      "text/plain": [
       "array([2, 3], dtype=int64)"
      ]
     },
     "execution_count": 31,
     "metadata": {},
     "output_type": "execute_result"
    }
   ],
   "source": [
    "x + y"
   ]
  },
  {
   "cell_type": "code",
   "execution_count": 32,
   "id": "e020a22d-35e3-482d-86fe-cb0e552201a5",
   "metadata": {},
   "outputs": [
    {
     "data": {
      "text/plain": [
       "array([0, 1], dtype=int64)"
      ]
     },
     "execution_count": 32,
     "metadata": {},
     "output_type": "execute_result"
    }
   ],
   "source": [
    "x - y"
   ]
  },
  {
   "cell_type": "code",
   "execution_count": 33,
   "id": "03560b01-775c-4e9c-85d5-c10a52050d11",
   "metadata": {},
   "outputs": [
    {
     "data": {
      "text/plain": [
       "array([1, 2], dtype=int64)"
      ]
     },
     "execution_count": 33,
     "metadata": {},
     "output_type": "execute_result"
    }
   ],
   "source": [
    "x*y"
   ]
  },
  {
   "cell_type": "code",
   "execution_count": 35,
   "id": "756c207c-134c-4c0e-9490-2d7dba0ecd11",
   "metadata": {},
   "outputs": [
    {
     "data": {
      "text/plain": [
       "array([  6,  15, 120,  21,  24,  30,  66,  75])"
      ]
     },
     "execution_count": 35,
     "metadata": {},
     "output_type": "execute_result"
    }
   ],
   "source": [
    "#Broadcasting --means apply to each elements\n",
    "array_brod =np.array([2,5,40,7,8,10,22,25])\n",
    "array_brod*3 # Multiply by 3 with each elements in the array"
   ]
  },
  {
   "cell_type": "code",
   "execution_count": 38,
   "id": "ee7118e8-a4cd-4523-b5be-6fd5286dd0c4",
   "metadata": {},
   "outputs": [
    {
     "data": {
      "text/plain": [
       "array([40, 10, 22, 25])"
      ]
     },
     "execution_count": 38,
     "metadata": {},
     "output_type": "execute_result"
    }
   ],
   "source": [
    "#Apply filter \n",
    "array_brod[array_brod>8]"
   ]
  },
  {
   "cell_type": "code",
   "execution_count": 43,
   "id": "c63c2d4f-ff71-464b-946b-5d61f59f7e16",
   "metadata": {},
   "outputs": [
    {
     "data": {
      "text/plain": [
       "array([10])"
      ]
     },
     "execution_count": 43,
     "metadata": {},
     "output_type": "execute_result"
    }
   ],
   "source": [
    "array_brod[(array_brod>8) & (array_brod<20)] # To perform and operation use &"
   ]
  },
  {
   "cell_type": "code",
   "execution_count": 46,
   "id": "08fed82f-2877-44d9-ba57-d16eed8540b1",
   "metadata": {},
   "outputs": [
    {
     "data": {
      "text/plain": [
       "array([40,  8, 10, 22, 25])"
      ]
     },
     "execution_count": 46,
     "metadata": {},
     "output_type": "execute_result"
    }
   ],
   "source": [
    "array_brod[(array_brod>8) | (array_brod==8)] # To perform or operation use |"
   ]
  },
  {
   "cell_type": "code",
   "execution_count": 47,
   "id": "8812a56e-8471-4817-b0c1-003ee8af1786",
   "metadata": {},
   "outputs": [],
   "source": [
    "# Tosave array in file\n",
    "\n",
    "np.save('array_brod',array_brod)"
   ]
  },
  {
   "cell_type": "code",
   "execution_count": 48,
   "id": "02b2067c-3900-4ad3-9daa-0114aecd7523",
   "metadata": {},
   "outputs": [],
   "source": [
    "# To load array from file\n",
    "new_array = np.load('array_brod.npy')"
   ]
  },
  {
   "cell_type": "code",
   "execution_count": 49,
   "id": "b962f069-3de5-4e02-a9cb-2ee325710c46",
   "metadata": {},
   "outputs": [
    {
     "name": "stdout",
     "output_type": "stream",
     "text": [
      "[ 2  5 40  7  8 10 22 25]\n"
     ]
    }
   ],
   "source": [
    "print(new_array)"
   ]
  },
  {
   "cell_type": "code",
   "execution_count": 50,
   "id": "674bbbed-e804-4ea1-8c16-a1ff76f9c7f1",
   "metadata": {},
   "outputs": [],
   "source": [
    "# Save array in CSV\n",
    "np.savetxt('array_brod.csv',array_brod)"
   ]
  },
  {
   "cell_type": "code",
   "execution_count": 54,
   "id": "029045b0-c091-4d5c-b379-58f658f15e64",
   "metadata": {},
   "outputs": [
    {
     "name": "stdout",
     "output_type": "stream",
     "text": [
      "[ 2.  5. 40.  7.  8. 10. 22. 25.]\n"
     ]
    }
   ],
   "source": [
    "new_array_csv = np.loadtxt('array_brod.csv')\n",
    "print(new_array_csv)"
   ]
  },
  {
   "cell_type": "code",
   "execution_count": null,
   "id": "ba5c15ef-5da1-4461-8f72-ec238df88182",
   "metadata": {},
   "outputs": [],
   "source": []
  },
  {
   "cell_type": "code",
   "execution_count": null,
   "id": "edc9e2a9-b96b-4be8-bdfb-a4b9e563a8e6",
   "metadata": {},
   "outputs": [],
   "source": []
  },
  {
   "cell_type": "code",
   "execution_count": null,
   "id": "7eb73f85-22cc-4c55-8b2b-85661f8f6be2",
   "metadata": {},
   "outputs": [],
   "source": []
  },
  {
   "cell_type": "code",
   "execution_count": null,
   "id": "734fdc65-9197-4694-aec6-e6c816b0936d",
   "metadata": {},
   "outputs": [],
   "source": []
  },
  {
   "cell_type": "code",
   "execution_count": null,
   "id": "ec0f6163-1f79-40cd-a90f-4335a34e6c84",
   "metadata": {},
   "outputs": [],
   "source": []
  },
  {
   "cell_type": "code",
   "execution_count": null,
   "id": "6861cf5d-954b-49c9-9ef7-b766108d9d89",
   "metadata": {},
   "outputs": [],
   "source": []
  },
  {
   "cell_type": "code",
   "execution_count": null,
   "id": "37ba0c45-6b65-496b-bf5e-6cb67b2f9959",
   "metadata": {},
   "outputs": [],
   "source": []
  },
  {
   "cell_type": "code",
   "execution_count": null,
   "id": "3b4d2a62-bc10-4603-9c72-7171008fee8b",
   "metadata": {},
   "outputs": [],
   "source": []
  },
  {
   "cell_type": "code",
   "execution_count": null,
   "id": "16fb7947-f864-44b4-96b9-8b9735a1861a",
   "metadata": {},
   "outputs": [],
   "source": []
  },
  {
   "cell_type": "code",
   "execution_count": null,
   "id": "b2b6072b-cb50-4618-ad42-986c5e2b7347",
   "metadata": {},
   "outputs": [],
   "source": []
  },
  {
   "cell_type": "code",
   "execution_count": null,
   "id": "b3181afa-573a-4899-89d4-75fa47769b84",
   "metadata": {},
   "outputs": [],
   "source": []
  },
  {
   "cell_type": "code",
   "execution_count": null,
   "id": "c1529738-ab85-4722-a924-7944970b569f",
   "metadata": {},
   "outputs": [],
   "source": []
  },
  {
   "cell_type": "code",
   "execution_count": null,
   "id": "bd67b071-93ad-4652-893f-900e52f4817d",
   "metadata": {},
   "outputs": [],
   "source": []
  },
  {
   "cell_type": "code",
   "execution_count": null,
   "id": "0c277c79-59ce-4d80-aad0-d5d34d223d4c",
   "metadata": {},
   "outputs": [],
   "source": []
  },
  {
   "cell_type": "code",
   "execution_count": null,
   "id": "6cd68b5b-7d34-4bd2-a37d-9d405f52b23c",
   "metadata": {},
   "outputs": [],
   "source": []
  },
  {
   "cell_type": "code",
   "execution_count": null,
   "id": "80bd3398-7d51-44e5-adf0-0c556bd74e5e",
   "metadata": {},
   "outputs": [],
   "source": []
  },
  {
   "cell_type": "code",
   "execution_count": null,
   "id": "3637a0c7-8c7c-4ba7-bca7-a43c62bfd6f0",
   "metadata": {},
   "outputs": [],
   "source": []
  },
  {
   "cell_type": "code",
   "execution_count": null,
   "id": "6aa7bd80-9cc5-4adf-a74b-ea07f8de7194",
   "metadata": {},
   "outputs": [],
   "source": []
  },
  {
   "cell_type": "code",
   "execution_count": null,
   "id": "bf3596c3-7808-44ea-bd28-288536d3e668",
   "metadata": {},
   "outputs": [],
   "source": []
  },
  {
   "cell_type": "code",
   "execution_count": null,
   "id": "30e7638b-4127-43a3-b7c9-318399d60139",
   "metadata": {},
   "outputs": [],
   "source": []
  },
  {
   "cell_type": "code",
   "execution_count": null,
   "id": "4c34fd4a-b7c2-4195-8cd5-3b0f6afb61a9",
   "metadata": {},
   "outputs": [],
   "source": []
  },
  {
   "cell_type": "code",
   "execution_count": null,
   "id": "020cb96e-a3a9-432b-be9a-9cceb57f9daa",
   "metadata": {},
   "outputs": [],
   "source": []
  },
  {
   "cell_type": "code",
   "execution_count": null,
   "id": "75485fa1-fa8e-4d09-9d7f-cd8d18d29391",
   "metadata": {},
   "outputs": [],
   "source": []
  },
  {
   "cell_type": "code",
   "execution_count": null,
   "id": "ea391e30-7511-4665-a628-088b4214de0d",
   "metadata": {},
   "outputs": [],
   "source": []
  },
  {
   "cell_type": "code",
   "execution_count": null,
   "id": "8a0cb9a0-852b-4c22-82ad-3bffd1aeba29",
   "metadata": {},
   "outputs": [],
   "source": []
  },
  {
   "cell_type": "code",
   "execution_count": null,
   "id": "a9db2922-816a-4a8e-a634-0ef5c0b79191",
   "metadata": {},
   "outputs": [],
   "source": []
  },
  {
   "cell_type": "code",
   "execution_count": null,
   "id": "0dd5e429-3af2-4572-94a4-4ac9609fb85b",
   "metadata": {},
   "outputs": [],
   "source": []
  },
  {
   "cell_type": "code",
   "execution_count": null,
   "id": "c0c4ffb4-2bed-4d68-a8da-ca4bace3cbfa",
   "metadata": {},
   "outputs": [],
   "source": []
  },
  {
   "cell_type": "code",
   "execution_count": null,
   "id": "f15b8592-24b9-426a-a24a-7419311aa552",
   "metadata": {},
   "outputs": [],
   "source": []
  },
  {
   "cell_type": "code",
   "execution_count": null,
   "id": "6b173ed0-eeab-4808-85e0-f29483243e89",
   "metadata": {},
   "outputs": [],
   "source": []
  }
 ],
 "metadata": {
  "kernelspec": {
   "display_name": "Python 3 (ipykernel)",
   "language": "python",
   "name": "python3"
  },
  "language_info": {
   "codemirror_mode": {
    "name": "ipython",
    "version": 3
   },
   "file_extension": ".py",
   "mimetype": "text/x-python",
   "name": "python",
   "nbconvert_exporter": "python",
   "pygments_lexer": "ipython3",
   "version": "3.12.4"
  }
 },
 "nbformat": 4,
 "nbformat_minor": 5
}
