{
 "cells": [
  {
   "cell_type": "code",
   "execution_count": 8,
   "id": "b58e841f-edd5-4652-89ad-d0ad81a2c912",
   "metadata": {},
   "outputs": [
    {
     "name": "stdout",
     "output_type": "stream",
     "text": [
      "The Toyota Corolla is runinng ...........\n"
     ]
    },
    {
     "data": {
      "text/plain": [
       "6"
      ]
     },
     "execution_count": 8,
     "metadata": {},
     "output_type": "execute_result"
    }
   ],
   "source": [
    "class car:\n",
    "    wheel = 4 #class method\n",
    "    #constructor\n",
    "    def __init__(self,brand,model):\n",
    "        self.brand = brand #Initiate Atrribute\n",
    "        self.model = model #Initiate Atrribute\n",
    "    ##Initiate Method\n",
    "    def start_engine(self):\n",
    "        print(f\"The {self.brand} {self.model} is runinng ...........\")\n",
    "\n",
    "    @classmethod\n",
    "    def set_wheels(cls,number):\n",
    "        cls.wheel = number\n",
    "\n",
    "    @staticmethod\n",
    "    def get_wheels():\n",
    "        return car.wheel\n",
    "        \n",
    "\n",
    "obj = car(\"Toyota\",\"Corolla\")\n",
    "obj.start_engine()\n",
    "\n",
    "car.set_wheels(6)\n",
    "car.get_wheels()"
   ]
  },
  {
   "cell_type": "code",
   "execution_count": 11,
   "id": "18a1ca0c-adaa-4d44-a920-96baf5c598ca",
   "metadata": {},
   "outputs": [
    {
     "name": "stdout",
     "output_type": "stream",
     "text": [
      "Clas C\n",
      "Class A\n"
     ]
    }
   ],
   "source": [
    "class A:\n",
    "    def test(self):\n",
    "        print(\"Class A\")\n",
    "class B:\n",
    "    def test(self):\n",
    "        print(\"Class B\")\n",
    "\n",
    "class C(A,B):\n",
    "    def test(self):\n",
    "        print(\"Clas C\")\n",
    "\n",
    "obj = C()\n",
    "obj.test()\n",
    "\n",
    "A.test(obj)\n",
    "    "
   ]
  },
  {
   "cell_type": "code",
   "execution_count": 24,
   "id": "6c3c0851-b5fb-4128-aaee-043565436352",
   "metadata": {},
   "outputs": [
    {
     "data": {
      "text/plain": [
       "[[1, 10], [2, 20], [4, 40]]"
      ]
     },
     "execution_count": 24,
     "metadata": {},
     "output_type": "execute_result"
    }
   ],
   "source": [
    "class HashMap:\n",
    "    def __init__(self):\n",
    "        self.result=[]\n",
    "    def put(self,key,value):\n",
    "        for item in self.result:\n",
    "            if item[0] == key:\n",
    "                item[1]=value\n",
    "                return\n",
    "        self.result.append([key,value])\n",
    "    def get(self,key):\n",
    "        for item in self.result:\n",
    "            if item[0] == key:\n",
    "                return item[1]\n",
    "        return [-1]\n",
    "    def remove(self,key):\n",
    "        for item in self.result:\n",
    "            if item[0] == key:\n",
    "                self.result.remove(item)\n",
    "                return\n",
    "\n",
    "\n",
    "obj = HashMap()\n",
    "obj.put(1,10)\n",
    "obj.put(2,20)\n",
    "obj.put(3,30)\n",
    "obj.put(4,40)\n",
    "\n",
    "obj.get(2)\n",
    "obj.remove(3)\n",
    "\n",
    "obj.result\n",
    "        "
   ]
  },
  {
   "cell_type": "code",
   "execution_count": 2,
   "id": "d858c224-462a-4a41-a7c7-df7f3b2caafa",
   "metadata": {},
   "outputs": [
    {
     "name": "stdout",
     "output_type": "stream",
     "text": [
      "Defaulting to user installation because normal site-packages is not writeable\n",
      "Collecting pythonlangutil\n",
      "  Downloading pythonlangutil-0.1.zip (7.3 kB)\n",
      "  Preparing metadata (setup.py): started\n",
      "  Preparing metadata (setup.py): finished with status 'done'\n",
      "Building wheels for collected packages: pythonlangutil\n",
      "  Building wheel for pythonlangutil (setup.py): started\n",
      "  Building wheel for pythonlangutil (setup.py): finished with status 'done'\n",
      "  Created wheel for pythonlangutil: filename=pythonlangutil-0.1-py3-none-any.whl size=3885 sha256=ae412dbaab6c1f13685b38baef695cb404e0ab3e50ba5549e8a693ecbf1b6768\n",
      "  Stored in directory: c:\\users\\dutta\\appdata\\local\\pip\\cache\\wheels\\fc\\b0\\6f\\c1ca67f8b5d40e437210bd7995063d45d49bef29692a78b692\n",
      "Successfully built pythonlangutil\n",
      "Installing collected packages: pythonlangutil\n",
      "Successfully installed pythonlangutil-0.1\n",
      "Note: you may need to restart the kernel to use updated packages.\n"
     ]
    }
   ],
   "source": [
    "pip install pythonlangutil"
   ]
  },
  {
   "cell_type": "code",
   "execution_count": null,
   "id": "93a892c8-2653-4bdb-9ca6-883cff802c11",
   "metadata": {},
   "outputs": [],
   "source": []
  },
  {
   "cell_type": "code",
   "execution_count": null,
   "id": "8240a084-f672-4fb2-bb13-19b69c1c4fd3",
   "metadata": {},
   "outputs": [],
   "source": []
  },
  {
   "cell_type": "code",
   "execution_count": 1,
   "id": "af0fc9a1-81b1-479b-87bd-5bd8ec0d895d",
   "metadata": {},
   "outputs": [
    {
     "name": "stdout",
     "output_type": "stream",
     "text": [
      "first method\n",
      "second method 5\n"
     ]
    }
   ],
   "source": [
    "from pythonlangutil.overload import Overload, signature\n",
    "\n",
    "class A:\n",
    "    @Overload\n",
    "    @signature()\n",
    "    def stackoverflow(self):    \n",
    "        print('first method')\n",
    "    \n",
    "    @stackoverflow.overload\n",
    "    @signature(\"int\")\n",
    "    def stackoverflow(self, i):\n",
    "        print('second method', i)\n",
    "\n",
    "obj = A()\n",
    "A.stackoverflow()\n",
    "A.stackoverflow(5)"
   ]
  },
  {
   "cell_type": "code",
   "execution_count": 17,
   "id": "2ec797f6-7153-44cf-8494-1add1899f444",
   "metadata": {},
   "outputs": [
    {
     "data": {
      "text/plain": [
       "[['a', 1, 2], ['b', 6, 3], ['c', 0, 4], ['d', 1, 3]]"
      ]
     },
     "execution_count": 17,
     "metadata": {},
     "output_type": "execute_result"
    }
   ],
   "source": [
    "l = [['a',1,2],['c',0,4],['b',6,3],['d',1,3]]\n",
    "\n",
    "sorted(l)"
   ]
  },
  {
   "cell_type": "code",
   "execution_count": null,
   "id": "8c2a8365-8777-4e2b-9588-5a035c552acb",
   "metadata": {},
   "outputs": [],
   "source": []
  },
  {
   "cell_type": "code",
   "execution_count": 16,
   "id": "83ed6fa8-25f2-4b35-ba2f-c032acf54290",
   "metadata": {},
   "outputs": [
    {
     "name": "stdout",
     "output_type": "stream",
     "text": [
      "hey, how are you?\n",
      "\n",
      "I am good, what about you?\n",
      "\n",
      "I am also good.Writing at the endWriting at the end\n"
     ]
    }
   ],
   "source": [
    "with open(\"D:/Debu/Debu/Personal/InterviewKickstart-ML/ML_Notebook/IK/Class_Work/test1.txt\",\"r\") as file:\n",
    "    for line in file.readlines():\n",
    "        print(line)       \n",
    "\n"
   ]
  },
  {
   "cell_type": "code",
   "execution_count": 80,
   "id": "d387a386-fb9f-4e23-b82c-7cc17d157ba0",
   "metadata": {},
   "outputs": [],
   "source": [
    "lines = [\"Python is good\",\"i love Python\"]\n",
    "with open(\"my_file.txt\",\"w\") as file:\n",
    "    for line in lines:\n",
    "        file.write(line+\"\\n\")\n",
    "    "
   ]
  },
  {
   "cell_type": "code",
   "execution_count": null,
   "id": "30e9a667-d625-4af9-88af-43c2779af8de",
   "metadata": {},
   "outputs": [],
   "source": []
  },
  {
   "cell_type": "code",
   "execution_count": 81,
   "id": "8a5f2986-605a-4343-a657-e544e2c7e990",
   "metadata": {},
   "outputs": [
    {
     "name": "stdout",
     "output_type": "stream",
     "text": [
      "Python is good\n",
      "i love Python\n",
      "This is for test\n",
      "0\n",
      "7\n"
     ]
    }
   ],
   "source": [
    "with open(\"my_file.txt\",\"a\") as file:\n",
    "    file.write(\"This is for test\")\n",
    "\n",
    "with open(\"my_file.txt\",\"r\") as file:\n",
    "    print(file.read())\n",
    "\n",
    "with open(\"my_file.txt\",\"r\") as file:\n",
    "    lines = file.readlines()\n",
    "    for line in lines:\n",
    "        if \"Python\" in line:\n",
    "            print(line.index(\"Python\"))\n"
   ]
  },
  {
   "cell_type": "code",
   "execution_count": null,
   "id": "d8a9b56d-85dd-461b-8be2-991768f7f1f7",
   "metadata": {},
   "outputs": [],
   "source": []
  },
  {
   "cell_type": "code",
   "execution_count": 5,
   "id": "3d1898ef-ccc1-4ab3-b56d-f6f563009c17",
   "metadata": {},
   "outputs": [
    {
     "name": "stdout",
     "output_type": "stream",
     "text": [
      "Python\n"
     ]
    }
   ],
   "source": [
    "with open(\"my_file.txt\",\"r\") as file:\n",
    "    content = file.read()\n",
    "    words = content.split()\n",
    "    longest_word =  max(words,key = lambda k: len(k))\n",
    "\n",
    "    print(longest_word)\n",
    "\n"
   ]
  },
  {
   "cell_type": "code",
   "execution_count": null,
   "id": "655475c5-9f21-4e3c-ae64-c9ecef6bda1c",
   "metadata": {},
   "outputs": [],
   "source": []
  },
  {
   "cell_type": "code",
   "execution_count": null,
   "id": "4965b4af-8ca4-44bc-b5d6-2da9a6e35b06",
   "metadata": {},
   "outputs": [],
   "source": []
  },
  {
   "cell_type": "code",
   "execution_count": 108,
   "id": "554b0d57-5746-4e58-a077-71322b4d36a3",
   "metadata": {},
   "outputs": [
    {
     "ename": "TypeError",
     "evalue": "'list' object is not callable",
     "output_type": "error",
     "traceback": [
      "\u001b[1;31m---------------------------------------------------------------------------\u001b[0m",
      "\u001b[1;31mTypeError\u001b[0m                                 Traceback (most recent call last)",
      "Cell \u001b[1;32mIn[108], line 1\u001b[0m\n\u001b[1;32m----> 1\u001b[0m \u001b[38;5;28mprint\u001b[39m(\u001b[38;5;28mmax\u001b[39m([\u001b[38;5;124m'\u001b[39m\u001b[38;5;124maaa\u001b[39m\u001b[38;5;124m'\u001b[39m,\u001b[38;5;124m'\u001b[39m\u001b[38;5;124mss\u001b[39m\u001b[38;5;124m'\u001b[39m,\u001b[38;5;124m'\u001b[39m\u001b[38;5;124mc\u001b[39m\u001b[38;5;124m'\u001b[39m],key\u001b[38;5;241m=\u001b[39m\u001b[38;5;28mlen\u001b[39m))\n",
      "\u001b[1;31mTypeError\u001b[0m: 'list' object is not callable"
     ]
    }
   ],
   "source": [
    "print(max(['aaa','ss','c'],key=len))"
   ]
  },
  {
   "cell_type": "code",
   "execution_count": 1,
   "id": "d71ff94a-d48f-41d3-bbfa-1a7a39ef1ad2",
   "metadata": {},
   "outputs": [],
   "source": [
    "x = max(5, 10)"
   ]
  },
  {
   "cell_type": "code",
   "execution_count": 2,
   "id": "456c2868-5874-4ff9-8a31-bcce1c87623c",
   "metadata": {},
   "outputs": [
    {
     "name": "stdout",
     "output_type": "stream",
     "text": [
      "The largest number is: 10\n"
     ]
    }
   ],
   "source": [
    "number = [3, 2, 8, 5, 10, 6]\n",
    "largest_number = max(number);\n",
    "\n",
    "print(\"The largest number is:\", largest_number)"
   ]
  },
  {
   "cell_type": "code",
   "execution_count": 4,
   "id": "629fd7a6-63cc-4d45-87aa-afc363eec53d",
   "metadata": {},
   "outputs": [
    {
     "name": "stdout",
     "output_type": "stream",
     "text": [
      "The largest string is: C Programming\n"
     ]
    }
   ],
   "source": [
    "languages = [\"Python\", \"C Programming\", \"Java\", \"JavaScript\"]\n",
    "largest_string = max(languages , key = lambda k: len(k))\n",
    "print(\"The largest string is:\", largest_string)\n"
   ]
  },
  {
   "cell_type": "code",
   "execution_count": null,
   "id": "ec2d5515-d316-44b3-887c-9a6bf39512f6",
   "metadata": {},
   "outputs": [],
   "source": []
  },
  {
   "cell_type": "code",
   "execution_count": null,
   "id": "401513ac-1428-4cab-b267-3a3ea1fc0f1c",
   "metadata": {},
   "outputs": [],
   "source": []
  },
  {
   "cell_type": "code",
   "execution_count": null,
   "id": "517139bf-4f83-4889-a0a6-07e079781c81",
   "metadata": {},
   "outputs": [],
   "source": []
  },
  {
   "cell_type": "code",
   "execution_count": null,
   "id": "72387026-334a-464c-aeb4-f892671c6500",
   "metadata": {},
   "outputs": [],
   "source": []
  },
  {
   "cell_type": "code",
   "execution_count": null,
   "id": "03c70829-94ea-4355-a11d-fcae77046157",
   "metadata": {},
   "outputs": [],
   "source": []
  },
  {
   "cell_type": "code",
   "execution_count": null,
   "id": "51df84c7-1cf6-47e7-a185-ca133647c777",
   "metadata": {},
   "outputs": [],
   "source": []
  },
  {
   "cell_type": "code",
   "execution_count": 91,
   "id": "77dbaea4-e763-487e-86f7-2a42d776a652",
   "metadata": {},
   "outputs": [
    {
     "name": "stdin",
     "output_type": "stream",
     "text": [
      "Enter a number for dividend 20\n",
      "Enter a number for divisor 0\n"
     ]
    },
    {
     "name": "stdout",
     "output_type": "stream",
     "text": [
      "Divisor can not be zero\n"
     ]
    }
   ],
   "source": [
    "try :\n",
    "    dividend = int(input(\"Enter a number for dividend\"))\n",
    "    divisor  = int(input(\"Enter a number for divisor\"))\n",
    "\n",
    "    resule = dividend/divisor\n",
    "\t\n",
    "except ZeroDivisionError:\n",
    "    print(\"Divisor can not be zero\")\n",
    "except ValueError:\n",
    "    print(\"Please enter the integer\")\n",
    "except Exception as e:\n",
    "    print(type(e))\n",
    "    print(\"Some exception occure\",e)\n",
    "else:\n",
    "    print(\"Processing complete : \", resule)\n",
    "    "
   ]
  },
  {
   "cell_type": "code",
   "execution_count": 72,
   "id": "3a486a2f-19c8-468b-baf7-1fa96ad73216",
   "metadata": {},
   "outputs": [
    {
     "ename": "NameError",
     "evalue": "name 'words' is not defined",
     "output_type": "error",
     "traceback": [
      "\u001b[1;31m---------------------------------------------------------------------------\u001b[0m",
      "\u001b[1;31mNameError\u001b[0m                                 Traceback (most recent call last)",
      "Cell \u001b[1;32mIn[72], line 10\u001b[0m\n\u001b[0;32m      7\u001b[0m     \u001b[38;5;28;01mreturn\u001b[39;00m reduce(\u001b[38;5;28;01mlambda\u001b[39;00m x, y: x \u001b[38;5;28;01mif\u001b[39;00m \u001b[38;5;28mlen\u001b[39m(x) \u001b[38;5;241m>\u001b[39m \u001b[38;5;28mlen\u001b[39m(y) \u001b[38;5;28;01melse\u001b[39;00m y, words)\n\u001b[0;32m      9\u001b[0m s \u001b[38;5;241m=\u001b[39m \u001b[38;5;124m\"\u001b[39m\u001b[38;5;124mbe confident and be yourself\u001b[39m\u001b[38;5;124m\"\u001b[39m\n\u001b[1;32m---> 10\u001b[0m longestword(s)\n",
      "Cell \u001b[1;32mIn[72], line 7\u001b[0m, in \u001b[0;36mlongestword\u001b[1;34m(s)\u001b[0m\n\u001b[0;32m      5\u001b[0m s\u001b[38;5;241m=\u001b[39ms\u001b[38;5;241m.\u001b[39msplit()\n\u001b[0;32m      6\u001b[0m \u001b[38;5;66;03m# Using max() method\u001b[39;00m\n\u001b[1;32m----> 7\u001b[0m \u001b[38;5;28;01mreturn\u001b[39;00m reduce(\u001b[38;5;28;01mlambda\u001b[39;00m x, y: x \u001b[38;5;28;01mif\u001b[39;00m \u001b[38;5;28mlen\u001b[39m(x) \u001b[38;5;241m>\u001b[39m \u001b[38;5;28mlen\u001b[39m(y) \u001b[38;5;28;01melse\u001b[39;00m y, words)\n",
      "\u001b[1;31mNameError\u001b[0m: name 'words' is not defined"
     ]
    }
   ],
   "source": [
    "from functools import reduce\n",
    "def longestword(s):\n",
    "     \n",
    "    #splitting the string into words\n",
    "    s=s.split()\n",
    "    # Using max() method\n",
    "    return reduce(lambda x, y: x if len(x) > len(y) else y, words)\n",
    "\n",
    "s = \"be confident and be yourself\"\n",
    "longestword(s)"
   ]
  },
  {
   "cell_type": "code",
   "execution_count": 39,
   "id": "3248d8d6-3096-431a-a0f3-4adb30a340c5",
   "metadata": {},
   "outputs": [
    {
     "name": "stdout",
     "output_type": "stream",
     "text": [
      "{'name': 'Debobrata', 'course': 'ML'}\n"
     ]
    }
   ],
   "source": [
    "import json\n",
    "json_file = {\"name\":\"Debobrata\",\"course\":\"ML\"}\n",
    "\n",
    "json_dumps = json.dumps(json_file)\n",
    "#with open(\"my_file.json\",\"w\") as file:\n",
    "#    file.write(json_dumps)\n",
    "\n",
    "with open(\"my_file.json\",\"w\") as file:\n",
    "    json.dump(json_file,file)\n",
    "    \n",
    "#with open(\"my_file.json\",\"r\") as file:\n",
    "#    print(file.read())\n",
    "\n",
    "with open(\"my_file.json\",\"r\") as file:\n",
    "    load_json = json.load(file)\n",
    "\n",
    "print(load_json)"
   ]
  },
  {
   "cell_type": "code",
   "execution_count": 101,
   "id": "24cd1733-5766-46ae-afd3-8fa1aece5cff",
   "metadata": {},
   "outputs": [
    {
     "name": "stdout",
     "output_type": "stream",
     "text": [
      "E001\n",
      "25\n"
     ]
    },
    {
     "ename": "TypeError",
     "evalue": "'int' object is not callable",
     "output_type": "error",
     "traceback": [
      "\u001b[1;31m---------------------------------------------------------------------------\u001b[0m",
      "\u001b[1;31mTypeError\u001b[0m                                 Traceback (most recent call last)",
      "Cell \u001b[1;32mIn[101], line 17\u001b[0m\n\u001b[0;32m     15\u001b[0m emp1\u001b[38;5;241m.\u001b[39msalary\u001b[38;5;241m=\u001b[39m\u001b[38;5;241m2000\u001b[39m\n\u001b[0;32m     16\u001b[0m emp1\u001b[38;5;241m.\u001b[39mprintDetails()\n\u001b[1;32m---> 17\u001b[0m emp1\u001b[38;5;241m.\u001b[39mage()\n",
      "\u001b[1;31mTypeError\u001b[0m: 'int' object is not callable"
     ]
    }
   ],
   "source": [
    "class Employee:\n",
    "    age_of_employee =25\n",
    "    def __init__(self,id,age):\n",
    "        self.id=id\n",
    "        self.age=age\n",
    "    \n",
    "    def printDetails(self):\n",
    "        print(self.id)\n",
    "        print(self.age)\n",
    "    \n",
    "    def age(self):\n",
    "        print(self.id)\n",
    "\n",
    "emp1=Employee('E001',25)\n",
    "emp1.salary=2000\n",
    "emp1.printDetails()\n",
    "emp1.age()"
   ]
  },
  {
   "cell_type": "code",
   "execution_count": null,
   "id": "298dd5e2-d2b5-43f0-8d57-ecd2ecd2b652",
   "metadata": {},
   "outputs": [],
   "source": []
  },
  {
   "cell_type": "code",
   "execution_count": null,
   "id": "90456543-090d-4363-ae24-de7e94ff8406",
   "metadata": {},
   "outputs": [],
   "source": []
  },
  {
   "cell_type": "code",
   "execution_count": null,
   "id": "23f3fade-ec25-4bed-9297-586b5825f21a",
   "metadata": {},
   "outputs": [],
   "source": []
  },
  {
   "cell_type": "code",
   "execution_count": null,
   "id": "2da4e478-0919-442e-a0ea-7f9291c9b492",
   "metadata": {},
   "outputs": [],
   "source": []
  },
  {
   "cell_type": "code",
   "execution_count": null,
   "id": "d15b5117-f0f2-40e9-8ca8-fa7e1693814e",
   "metadata": {},
   "outputs": [],
   "source": []
  },
  {
   "cell_type": "code",
   "execution_count": null,
   "id": "b29b9725-0351-47a5-8915-de44671d3fdb",
   "metadata": {},
   "outputs": [],
   "source": []
  },
  {
   "cell_type": "code",
   "execution_count": null,
   "id": "e4d2f712-2697-4323-9551-d7043aabd3d2",
   "metadata": {},
   "outputs": [],
   "source": []
  },
  {
   "cell_type": "code",
   "execution_count": 41,
   "id": "7261ec18-1a82-4b88-bca7-bab16f31709b",
   "metadata": {},
   "outputs": [
    {
     "name": "stdout",
     "output_type": "stream",
     "text": [
      "30\n"
     ]
    }
   ],
   "source": [
    "class Employee:\n",
    "    def __init__(self,id,age):\n",
    "        self.id=id\n",
    "        self.age=age\n",
    "    \n",
    "    def printID(self):\n",
    "        print(self.id)\n",
    "    \n",
    "    def printAge(abc):\n",
    "        print(abc.age)\n",
    "\n",
    "\n",
    "emp1=Employee('E001',30)\n",
    "emp1.printAge()"
   ]
  },
  {
   "cell_type": "code",
   "execution_count": 48,
   "id": "b17980db-3c7c-4ec0-b934-cf5bd88faf2b",
   "metadata": {},
   "outputs": [
    {
     "name": "stdout",
     "output_type": "stream",
     "text": [
      "This is global\n",
      "This is global\n",
      "This is local\n",
      "This is global\n"
     ]
    }
   ],
   "source": [
    "# This function uses global variable s\n",
    "def checkingGlobalAndLocalVariable():\n",
    "    l = \"This is local\"\n",
    "    print(g)\n",
    "    print(l)\n",
    "\n",
    "# Global scope\n",
    "g = \"This is global\"\n",
    "print(g)\n",
    "checkingGlobalAndLocalVariable()\n",
    "print(g)\n",
    "\n"
   ]
  },
  {
   "cell_type": "code",
   "execution_count": 7,
   "id": "7cf31d55-22fe-4ab6-bd12-2b4882e4b241",
   "metadata": {},
   "outputs": [
    {
     "data": {
      "text/plain": [
       "['us', 'For', 'Good', 'Interview', 'Kickstart']"
      ]
     },
     "execution_count": 7,
     "metadata": {},
     "output_type": "execute_result"
    }
   ],
   "source": [
    "def customSort(stringsList):\n",
    "    return sorted(stringsList,key = len)\n",
    "\n",
    "customSort(['Interview','Kickstart','Good','For','us'])"
   ]
  },
  {
   "cell_type": "code",
   "execution_count": null,
   "id": "60642554-105d-468e-8c9e-582cade835c6",
   "metadata": {},
   "outputs": [],
   "source": []
  },
  {
   "cell_type": "code",
   "execution_count": null,
   "id": "57a73139-5ca7-41fe-af1d-308fd0a22071",
   "metadata": {},
   "outputs": [],
   "source": []
  },
  {
   "cell_type": "code",
   "execution_count": 92,
   "id": "a094eb76-01ea-49b8-8dbf-2840e7dbc85b",
   "metadata": {},
   "outputs": [
    {
     "name": "stdout",
     "output_type": "stream",
     "text": [
      "{'name': 'Debobrata', 'course': 'ML'}\n"
     ]
    }
   ],
   "source": [
    "import json\n",
    "with open(\"my_file.json\",\"r\") as file:\n",
    "    load_json = json.load(file)\n",
    "\n",
    "print(load_json)"
   ]
  },
  {
   "cell_type": "code",
   "execution_count": 93,
   "id": "7a940550-aec4-48f2-8b38-5df03a24d3c7",
   "metadata": {},
   "outputs": [
    {
     "name": "stdout",
     "output_type": "stream",
     "text": [
      "{'test': 7}\n"
     ]
    }
   ],
   "source": [
    "class demo(dict):\n",
    "    def __test__(self, key):\n",
    "        return []\n",
    "\n",
    "a = demo()\n",
    "a.__test__('test')\n",
    "a['test'] = 7\n",
    "print(a)"
   ]
  },
  {
   "cell_type": "code",
   "execution_count": 9,
   "id": "45dacc57-b3a1-4dc4-9aa0-49d907ce5b25",
   "metadata": {},
   "outputs": [
    {
     "name": "stdout",
     "output_type": "stream",
     "text": [
      "5\n",
      "9\n"
     ]
    }
   ],
   "source": [
    "class MathOperations:\n",
    "    def add(self, a, b,c=0):\n",
    "        return a + b + c\n",
    "    \n",
    "\n",
    "# Create an instance of MathOperations\n",
    "math_ops = MathOperations()\n",
    "\n",
    "# Calling the overloaded method based on the number of arguments\n",
    "print(math_ops.add(2, 3))      # Output: TypeError: add() missing 1 required positional argument: 'c'\n",
    "print(math_ops.add(2, 3, 4))   # Output: 9"
   ]
  },
  {
   "cell_type": "code",
   "execution_count": null,
   "id": "91647970-0b58-42bf-afef-8ecf3369afa4",
   "metadata": {},
   "outputs": [],
   "source": []
  },
  {
   "cell_type": "code",
   "execution_count": null,
   "id": "9684297b-4a0f-4755-9ad5-317b7d3aa73e",
   "metadata": {},
   "outputs": [],
   "source": []
  },
  {
   "cell_type": "code",
   "execution_count": null,
   "id": "172172a7-1d13-43a0-ac42-28b5ca118e44",
   "metadata": {},
   "outputs": [],
   "source": []
  },
  {
   "cell_type": "code",
   "execution_count": null,
   "id": "90d5bd3f-595a-4c9d-9ec5-c5df47c623d2",
   "metadata": {},
   "outputs": [],
   "source": []
  },
  {
   "cell_type": "code",
   "execution_count": null,
   "id": "e01891e2-88f7-4594-a2e3-cef8595d277e",
   "metadata": {},
   "outputs": [],
   "source": []
  },
  {
   "cell_type": "code",
   "execution_count": null,
   "id": "dd6a9c18-b0ae-437f-9939-d3bf4d5dca00",
   "metadata": {},
   "outputs": [],
   "source": []
  },
  {
   "cell_type": "code",
   "execution_count": null,
   "id": "2b767f4b-d6d8-4074-8979-832af9e52a02",
   "metadata": {},
   "outputs": [],
   "source": []
  },
  {
   "cell_type": "code",
   "execution_count": null,
   "id": "da9538f9-0452-4f28-a0ac-8d8b120f421f",
   "metadata": {},
   "outputs": [],
   "source": []
  },
  {
   "cell_type": "code",
   "execution_count": null,
   "id": "0516ead5-7040-4356-bda5-24c2a4c9ece5",
   "metadata": {},
   "outputs": [],
   "source": []
  },
  {
   "cell_type": "code",
   "execution_count": null,
   "id": "8eb87f64-0ffb-4800-9619-01e11f17cc1d",
   "metadata": {},
   "outputs": [],
   "source": []
  },
  {
   "cell_type": "code",
   "execution_count": null,
   "id": "64caa4cc-748b-419c-a808-df00b02ad595",
   "metadata": {},
   "outputs": [],
   "source": []
  },
  {
   "cell_type": "code",
   "execution_count": null,
   "id": "6e62fff3-055a-4c6c-bd61-8b28ec2860c2",
   "metadata": {},
   "outputs": [],
   "source": []
  },
  {
   "cell_type": "code",
   "execution_count": null,
   "id": "49136817-ab33-4202-b02d-d10c220f5c58",
   "metadata": {},
   "outputs": [],
   "source": []
  },
  {
   "cell_type": "code",
   "execution_count": null,
   "id": "3b67fad5-35ff-476a-b359-d3392a1f30cc",
   "metadata": {},
   "outputs": [],
   "source": []
  },
  {
   "cell_type": "code",
   "execution_count": null,
   "id": "1b796cba-5518-42c5-9120-a49626c3e72a",
   "metadata": {},
   "outputs": [],
   "source": []
  },
  {
   "cell_type": "code",
   "execution_count": null,
   "id": "312105e6-b6ab-4d4b-a4ea-eaf401374a53",
   "metadata": {},
   "outputs": [],
   "source": []
  },
  {
   "cell_type": "code",
   "execution_count": null,
   "id": "f0be407d-98a1-4147-99c7-a348bddbf669",
   "metadata": {},
   "outputs": [],
   "source": []
  },
  {
   "cell_type": "code",
   "execution_count": null,
   "id": "a10111cd-2b19-4049-b8d1-5e199609b916",
   "metadata": {},
   "outputs": [],
   "source": []
  },
  {
   "cell_type": "code",
   "execution_count": null,
   "id": "0b47711a-3e26-4676-9303-8dc374e4ef97",
   "metadata": {},
   "outputs": [],
   "source": []
  },
  {
   "cell_type": "code",
   "execution_count": null,
   "id": "a991bb5b-2b28-454e-a9c6-35f49dd1cdc7",
   "metadata": {},
   "outputs": [],
   "source": []
  },
  {
   "cell_type": "code",
   "execution_count": null,
   "id": "25be3c4a-c1a9-44fc-afa1-e7d9d4202ccc",
   "metadata": {},
   "outputs": [],
   "source": []
  },
  {
   "cell_type": "code",
   "execution_count": null,
   "id": "3fe36f3f-56a8-46bc-9b69-911887fde8b2",
   "metadata": {},
   "outputs": [],
   "source": []
  },
  {
   "cell_type": "code",
   "execution_count": null,
   "id": "ca1bd89e-c14b-43f2-9052-c124c801505c",
   "metadata": {},
   "outputs": [],
   "source": []
  },
  {
   "cell_type": "code",
   "execution_count": null,
   "id": "9b2dfa05-8b0d-4f0e-8bbb-866e0ffa0c53",
   "metadata": {},
   "outputs": [],
   "source": []
  },
  {
   "cell_type": "code",
   "execution_count": null,
   "id": "038c1870-418a-4610-b7a0-3f62adf4a7a6",
   "metadata": {},
   "outputs": [],
   "source": []
  },
  {
   "cell_type": "code",
   "execution_count": null,
   "id": "6f9f9709-1580-4c3a-8060-34a69672bca4",
   "metadata": {},
   "outputs": [],
   "source": []
  },
  {
   "cell_type": "code",
   "execution_count": null,
   "id": "a1a7a330-c399-413c-975e-71ecd7c496fc",
   "metadata": {},
   "outputs": [],
   "source": []
  },
  {
   "cell_type": "code",
   "execution_count": null,
   "id": "5f38dd39-fbd0-4e8d-b7c8-9e348e26e311",
   "metadata": {},
   "outputs": [],
   "source": []
  },
  {
   "cell_type": "code",
   "execution_count": null,
   "id": "042815cd-b866-4edf-a4b4-914a8df4e81c",
   "metadata": {},
   "outputs": [],
   "source": []
  },
  {
   "cell_type": "code",
   "execution_count": null,
   "id": "49224e1d-f43e-4b8e-8a6a-85bbac2402ec",
   "metadata": {},
   "outputs": [],
   "source": []
  },
  {
   "cell_type": "code",
   "execution_count": null,
   "id": "bca689d1-5ff9-41ca-a77a-1aeae42c13c4",
   "metadata": {},
   "outputs": [],
   "source": []
  },
  {
   "cell_type": "code",
   "execution_count": null,
   "id": "ba4687b8-cee0-46a2-9bfb-65acc424eac8",
   "metadata": {},
   "outputs": [],
   "source": []
  },
  {
   "cell_type": "code",
   "execution_count": null,
   "id": "1d7012ec-7e17-4596-909c-14a746d36a71",
   "metadata": {},
   "outputs": [],
   "source": []
  },
  {
   "cell_type": "code",
   "execution_count": null,
   "id": "a4f15cd4-9ab7-49c7-8876-f7b2d719a70a",
   "metadata": {},
   "outputs": [],
   "source": []
  },
  {
   "cell_type": "code",
   "execution_count": null,
   "id": "b0013514-8430-472e-9282-6051627f49c2",
   "metadata": {},
   "outputs": [],
   "source": []
  },
  {
   "cell_type": "code",
   "execution_count": null,
   "id": "2dd6b428-ea0a-4e2f-959a-9c509e4a730a",
   "metadata": {},
   "outputs": [],
   "source": []
  },
  {
   "cell_type": "code",
   "execution_count": null,
   "id": "fa93e9b4-fe76-4aef-88be-6e9fed048ac2",
   "metadata": {},
   "outputs": [],
   "source": []
  },
  {
   "cell_type": "code",
   "execution_count": null,
   "id": "046e9267-7f88-49e4-a7d1-dfbbd973b3ae",
   "metadata": {},
   "outputs": [],
   "source": []
  },
  {
   "cell_type": "code",
   "execution_count": null,
   "id": "3c8c18ba-2141-4bbd-9826-ac62176b46ff",
   "metadata": {},
   "outputs": [],
   "source": []
  },
  {
   "cell_type": "code",
   "execution_count": null,
   "id": "17810c40-5759-4ea1-9c28-f0e94a73c25d",
   "metadata": {},
   "outputs": [],
   "source": []
  },
  {
   "cell_type": "code",
   "execution_count": null,
   "id": "e5e16aab-d338-4820-bf44-b6cbb8a243f7",
   "metadata": {},
   "outputs": [],
   "source": []
  },
  {
   "cell_type": "code",
   "execution_count": null,
   "id": "3359969c-2a8e-4cef-bfff-0ea8f370d9bc",
   "metadata": {},
   "outputs": [],
   "source": []
  },
  {
   "cell_type": "code",
   "execution_count": null,
   "id": "03633815-5f65-40d5-bb1f-3c6fb69029e2",
   "metadata": {},
   "outputs": [],
   "source": []
  },
  {
   "cell_type": "code",
   "execution_count": null,
   "id": "65d350b3-503b-43fc-a42e-e5f3e52af5b2",
   "metadata": {},
   "outputs": [],
   "source": []
  },
  {
   "cell_type": "code",
   "execution_count": null,
   "id": "fd25f5c4-b554-47ef-a091-e96ebd1670cf",
   "metadata": {},
   "outputs": [],
   "source": []
  },
  {
   "cell_type": "code",
   "execution_count": null,
   "id": "d781fc9d-2400-4fbd-8e63-4b7d1aa725cc",
   "metadata": {},
   "outputs": [],
   "source": []
  },
  {
   "cell_type": "code",
   "execution_count": null,
   "id": "d6257d33-83f0-4dce-9d15-0266a47cd813",
   "metadata": {},
   "outputs": [],
   "source": []
  },
  {
   "cell_type": "code",
   "execution_count": null,
   "id": "da837f29-3bd3-4195-9b52-70bcba9e469a",
   "metadata": {},
   "outputs": [],
   "source": []
  },
  {
   "cell_type": "code",
   "execution_count": null,
   "id": "11a77142-e730-43de-8001-385b93f3ba4a",
   "metadata": {},
   "outputs": [],
   "source": []
  },
  {
   "cell_type": "code",
   "execution_count": null,
   "id": "38ce687d-f7f9-42d3-9c57-34cc31a3833d",
   "metadata": {},
   "outputs": [],
   "source": []
  },
  {
   "cell_type": "code",
   "execution_count": null,
   "id": "b74b93e5-37e5-4386-8890-e4abbc8342bc",
   "metadata": {},
   "outputs": [],
   "source": []
  },
  {
   "cell_type": "code",
   "execution_count": null,
   "id": "ae8a472f-9687-4896-b5ce-7448c3a8fc9f",
   "metadata": {},
   "outputs": [],
   "source": []
  },
  {
   "cell_type": "code",
   "execution_count": null,
   "id": "5a2e3d12-25c6-4f4b-af13-72b6eeb3518b",
   "metadata": {},
   "outputs": [],
   "source": []
  },
  {
   "cell_type": "code",
   "execution_count": null,
   "id": "d99f7a2d-32d3-4a1e-902e-04165f9ee3b7",
   "metadata": {},
   "outputs": [],
   "source": []
  },
  {
   "cell_type": "code",
   "execution_count": null,
   "id": "14a4e755-a1c0-4c3f-9a5e-e51737a8a4db",
   "metadata": {},
   "outputs": [],
   "source": []
  },
  {
   "cell_type": "code",
   "execution_count": null,
   "id": "ff886751-899f-409a-8ec8-1568d2e1f67c",
   "metadata": {},
   "outputs": [],
   "source": []
  },
  {
   "cell_type": "code",
   "execution_count": null,
   "id": "4cdbc7be-d6f1-4628-b765-5d62a7d5f3c1",
   "metadata": {},
   "outputs": [],
   "source": []
  },
  {
   "cell_type": "code",
   "execution_count": null,
   "id": "b2346d9d-1f8c-484f-8650-1d4fa7ee9960",
   "metadata": {},
   "outputs": [],
   "source": []
  },
  {
   "cell_type": "code",
   "execution_count": null,
   "id": "d1d998cb-a276-40bc-ac84-06e5b4e9cd7a",
   "metadata": {},
   "outputs": [],
   "source": []
  }
 ],
 "metadata": {
  "kernelspec": {
   "display_name": "Python 3 (ipykernel)",
   "language": "python",
   "name": "python3"
  },
  "language_info": {
   "codemirror_mode": {
    "name": "ipython",
    "version": 3
   },
   "file_extension": ".py",
   "mimetype": "text/x-python",
   "name": "python",
   "nbconvert_exporter": "python",
   "pygments_lexer": "ipython3",
   "version": "3.12.4"
  }
 },
 "nbformat": 4,
 "nbformat_minor": 5
}
