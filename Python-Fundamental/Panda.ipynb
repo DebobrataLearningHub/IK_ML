{
 "cells": [
  {
   "cell_type": "code",
   "execution_count": 2,
   "id": "897fd5f1-5195-4010-9915-247029c039c6",
   "metadata": {},
   "outputs": [],
   "source": [
    "import numpy as np\n",
    "import pandas as pd"
   ]
  },
  {
   "cell_type": "code",
   "execution_count": 60,
   "id": "2232a310-7698-4812-8eb4-f8e32a4af77c",
   "metadata": {},
   "outputs": [
    {
     "ename": "TypeError",
     "evalue": "DataFrame.sort_index() got an unexpected keyword argument 'by'",
     "output_type": "error",
     "traceback": [
      "\u001b[1;31m---------------------------------------------------------------------------\u001b[0m",
      "\u001b[1;31mTypeError\u001b[0m                                 Traceback (most recent call last)",
      "Cell \u001b[1;32mIn[60], line 6\u001b[0m\n\u001b[0;32m      1\u001b[0m data\u001b[38;5;241m=\u001b[39m{\u001b[38;5;124m\"\u001b[39m\u001b[38;5;124mName\u001b[39m\u001b[38;5;124m\"\u001b[39m: [\u001b[38;5;124m\"\u001b[39m\u001b[38;5;124ma\u001b[39m\u001b[38;5;124m\"\u001b[39m, \u001b[38;5;124m\"\u001b[39m\u001b[38;5;124mb\u001b[39m\u001b[38;5;124m\"\u001b[39m, \u001b[38;5;124m\"\u001b[39m\u001b[38;5;124mc\u001b[39m\u001b[38;5;124m\"\u001b[39m],\n\u001b[0;32m      2\u001b[0m       \u001b[38;5;124m\"\u001b[39m\u001b[38;5;124mage\u001b[39m\u001b[38;5;124m\"\u001b[39m: [\u001b[38;5;241m10\u001b[39m,\u001b[38;5;241m20\u001b[39m,\u001b[38;5;241m30\u001b[39m]\n\u001b[0;32m      3\u001b[0m       }\n\u001b[0;32m      4\u001b[0m df \u001b[38;5;241m=\u001b[39m pd\u001b[38;5;241m.\u001b[39mDataFrame(data)\n\u001b[1;32m----> 6\u001b[0m df\u001b[38;5;241m.\u001b[39msort_index(by\u001b[38;5;241m=\u001b[39m\u001b[38;5;124m'\u001b[39m\u001b[38;5;124mName\u001b[39m\u001b[38;5;124m'\u001b[39m)\n",
      "\u001b[1;31mTypeError\u001b[0m: DataFrame.sort_index() got an unexpected keyword argument 'by'"
     ]
    }
   ],
   "source": [
    "data={\"Name\": [\"a\", \"b\", \"c\"],\n",
    "      \"age\": [10,20,30]\n",
    "      }\n",
    "df = pd.DataFrame(data)\n",
    "\n",
    "df.sort_index(by='Name')"
   ]
  },
  {
   "cell_type": "code",
   "execution_count": 62,
   "id": "1385fc18-a297-4b43-bb14-459087570a76",
   "metadata": {},
   "outputs": [
    {
     "data": {
      "text/plain": [
       "0    10\n",
       "1    20\n",
       "2    30\n",
       "3    13\n",
       "4     5\n",
       "Name: age, dtype: int64"
      ]
     },
     "execution_count": 62,
     "metadata": {},
     "output_type": "execute_result"
    }
   ],
   "source": [
    "data={\"age\": [10,20,30,0,5]\n",
    "      }\n",
    "df = pd.DataFrame(data)\n",
    "\n",
    "df['age'].replace(0,df['age'].mean())"
   ]
  },
  {
   "cell_type": "code",
   "execution_count": 68,
   "id": "49613847-77db-4ee6-9c2e-87158548266c",
   "metadata": {},
   "outputs": [
    {
     "name": "stdout",
     "output_type": "stream",
     "text": [
      "          A         B         C         D\n",
      "0 -0.095406 -0.514689  0.756544 -1.185581\n",
      "1 -0.256841  0.970574 -1.399413 -0.106101\n",
      "2 -0.133211 -1.229158 -0.906562  0.163884\n",
      "3 -0.235733 -0.820789  0.442299  0.756014\n",
      "4 -0.196354  0.879314 -0.539076  0.165627\n",
      "5  0.746547 -0.859247  0.564897 -0.487553\n"
     ]
    },
    {
     "data": {
      "text/html": [
       "<div>\n",
       "<style scoped>\n",
       "    .dataframe tbody tr th:only-of-type {\n",
       "        vertical-align: middle;\n",
       "    }\n",
       "\n",
       "    .dataframe tbody tr th {\n",
       "        vertical-align: top;\n",
       "    }\n",
       "\n",
       "    .dataframe thead th {\n",
       "        text-align: right;\n",
       "    }\n",
       "</style>\n",
       "<table border=\"1\" class=\"dataframe\">\n",
       "  <thead>\n",
       "    <tr style=\"text-align: right;\">\n",
       "      <th></th>\n",
       "      <th>A</th>\n",
       "      <th>B</th>\n",
       "      <th>C</th>\n",
       "      <th>D</th>\n",
       "    </tr>\n",
       "  </thead>\n",
       "  <tbody>\n",
       "    <tr>\n",
       "      <th>0</th>\n",
       "      <td>-0.095406</td>\n",
       "      <td>-0.514689</td>\n",
       "      <td>0.756544</td>\n",
       "      <td>-1.185581</td>\n",
       "    </tr>\n",
       "    <tr>\n",
       "      <th>3</th>\n",
       "      <td>-0.235733</td>\n",
       "      <td>-0.820789</td>\n",
       "      <td>0.442299</td>\n",
       "      <td>0.756014</td>\n",
       "    </tr>\n",
       "    <tr>\n",
       "      <th>5</th>\n",
       "      <td>0.746547</td>\n",
       "      <td>-0.859247</td>\n",
       "      <td>0.564897</td>\n",
       "      <td>-0.487553</td>\n",
       "    </tr>\n",
       "  </tbody>\n",
       "</table>\n",
       "</div>"
      ],
      "text/plain": [
       "          A         B         C         D\n",
       "0 -0.095406 -0.514689  0.756544 -1.185581\n",
       "3 -0.235733 -0.820789  0.442299  0.756014\n",
       "5  0.746547 -0.859247  0.564897 -0.487553"
      ]
     },
     "execution_count": 68,
     "metadata": {},
     "output_type": "execute_result"
    }
   ],
   "source": [
    "import pandas as pd\n",
    "\n",
    "import numpy as np\n",
    "\n",
    "df = pd.DataFrame(np.random.randn(6, 4), columns=list('ABCD'))\n",
    "print(df)\n",
    "\n",
    "df[df.C > 0]\n"
   ]
  },
  {
   "cell_type": "code",
   "execution_count": 81,
   "id": "1e2cb25b-a0d1-4767-97b8-46601a7dde62",
   "metadata": {},
   "outputs": [
    {
     "data": {
      "text/plain": [
       "8.440000000000001"
      ]
     },
     "execution_count": 81,
     "metadata": {},
     "output_type": "execute_result"
    }
   ],
   "source": [
    "import pandas as pd\n",
    "\n",
    "data = {\n",
    "\n",
    "    'Title': ['Inception', 'Dunkirk', 'Interstellar', 'The Prestige', 'Memento'],\n",
    "\n",
    "    'Director': ['Christopher Nolan', 'Christopher Nolan', 'Christopher Nolan', 'Christopher Nolan', 'Christopher Nolan'],\n",
    "\n",
    "    'Rating': [8.8, 7.9, 8.6, 8.5, 8.4]\n",
    "\n",
    "}\n",
    "\n",
    "df = pd.DataFrame(data)\n",
    "df_f = df[df['Director']=='Christopher Nolan']\n",
    "df_f['Rating'].mean()\n"
   ]
  },
  {
   "cell_type": "code",
   "execution_count": 83,
   "id": "8a802829-5f16-4195-ac72-ba4343261cfa",
   "metadata": {},
   "outputs": [
    {
     "name": "stdout",
     "output_type": "stream",
     "text": [
      "  Product  Price\n",
      "3   Phone  22000\n",
      "0  Laptop  25000\n"
     ]
    }
   ],
   "source": [
    "import pandas as pd\n",
    "data = {\n",
    "    'Product': ['Laptop', 'Desktop', 'Tablet', 'Phone', 'Smartwatch'],\n",
    "    'Price': [25000, 12000, 8000, 22000, 5000]\n",
    "\n",
    "}\n",
    "df = pd.DataFrame(data)\n",
    "df_f = df[df['Price']>=20000]\n",
    "print(df_f.sort_values('Price'))"
   ]
  },
  {
   "cell_type": "code",
   "execution_count": 89,
   "id": "46a075ee-793c-4112-ab6d-77345787408e",
   "metadata": {},
   "outputs": [
    {
     "data": {
      "text/html": [
       "<div>\n",
       "<style scoped>\n",
       "    .dataframe tbody tr th:only-of-type {\n",
       "        vertical-align: middle;\n",
       "    }\n",
       "\n",
       "    .dataframe tbody tr th {\n",
       "        vertical-align: top;\n",
       "    }\n",
       "\n",
       "    .dataframe thead th {\n",
       "        text-align: right;\n",
       "    }\n",
       "</style>\n",
       "<table border=\"1\" class=\"dataframe\">\n",
       "  <thead>\n",
       "    <tr style=\"text-align: right;\">\n",
       "      <th></th>\n",
       "      <th>Store</th>\n",
       "      <th>Revenue</th>\n",
       "      <th>Average_Price</th>\n",
       "    </tr>\n",
       "  </thead>\n",
       "  <tbody>\n",
       "    <tr>\n",
       "      <th>0</th>\n",
       "      <td>A</td>\n",
       "      <td>3040</td>\n",
       "      <td>42.00</td>\n",
       "    </tr>\n",
       "    <tr>\n",
       "      <th>1</th>\n",
       "      <td>B</td>\n",
       "      <td>4025</td>\n",
       "      <td>41.75</td>\n",
       "    </tr>\n",
       "  </tbody>\n",
       "</table>\n",
       "</div>"
      ],
      "text/plain": [
       "  Store  Revenue  Average_Price\n",
       "0     A     3040          42.00\n",
       "1     B     4025          41.75"
      ]
     },
     "execution_count": 89,
     "metadata": {},
     "output_type": "execute_result"
    }
   ],
   "source": [
    "import pandas as pd\n",
    "\n",
    "data = {\n",
    "    'Store': ['A', 'B', 'A', 'B', 'A', 'B', 'A', 'B'],\n",
    "    'Item': ['Apple', 'Banana', 'Orange', 'Grape', 'Apple', 'Banana', 'Orange', 'Grape'],\n",
    "    'Price': [50, 20, 30, 60, 55, 22, 33, 65],\n",
    "    'Quantity': [10, 12, 15, 16, 20, 25, 30, 35]\n",
    "}\n",
    "\n",
    "df = pd.DataFrame(data)\n",
    "\n",
    "df['Revenue'] = df['Price'] * df['Quantity']\n",
    "df_g = df.groupby('Store').agg({'Revenue': 'sum', 'Price': 'mean'}).reset_index()\n",
    "df_g.rename(columns={'Price': 'Average_Price'}, inplace=True)\n",
    "df_g\n"
   ]
  },
  {
   "cell_type": "code",
   "execution_count": 92,
   "id": "d98f5abe-3dc4-438e-911b-b8ce4ed8a062",
   "metadata": {},
   "outputs": [
    {
     "name": "stderr",
     "output_type": "stream",
     "text": [
      "C:\\Users\\dutta\\AppData\\Local\\Temp\\ipykernel_30956\\3588381438.py:11: FutureWarning: The provided callable <built-in function sum> is currently using SeriesGroupBy.sum. In a future version of pandas, the provided callable will be used directly. To keep current behavior pass the string \"sum\" instead.\n",
      "  df_g = df.groupby('Customer').agg({'Total_Amount_Spent':sum}).reset_index()\n"
     ]
    },
    {
     "data": {
      "text/html": [
       "<div>\n",
       "<style scoped>\n",
       "    .dataframe tbody tr th:only-of-type {\n",
       "        vertical-align: middle;\n",
       "    }\n",
       "\n",
       "    .dataframe tbody tr th {\n",
       "        vertical-align: top;\n",
       "    }\n",
       "\n",
       "    .dataframe thead th {\n",
       "        text-align: right;\n",
       "    }\n",
       "</style>\n",
       "<table border=\"1\" class=\"dataframe\">\n",
       "  <thead>\n",
       "    <tr style=\"text-align: right;\">\n",
       "      <th></th>\n",
       "      <th>Customer</th>\n",
       "      <th>Total_Amount_Spent</th>\n",
       "    </tr>\n",
       "  </thead>\n",
       "  <tbody>\n",
       "    <tr>\n",
       "      <th>0</th>\n",
       "      <td>Alice</td>\n",
       "      <td>280</td>\n",
       "    </tr>\n",
       "    <tr>\n",
       "      <th>1</th>\n",
       "      <td>Bob</td>\n",
       "      <td>190</td>\n",
       "    </tr>\n",
       "  </tbody>\n",
       "</table>\n",
       "</div>"
      ],
      "text/plain": [
       "  Customer  Total_Amount_Spent\n",
       "0    Alice                 280\n",
       "1      Bob                 190"
      ]
     },
     "execution_count": 92,
     "metadata": {},
     "output_type": "execute_result"
    }
   ],
   "source": [
    "import pandas as pd\n",
    "data = {\n",
    "    'Customer': ['Alice', 'Bob', 'Alice', 'Alice', 'Bob', 'Bob', 'Alice', 'Bob'],\n",
    "    'Item': ['Pen', 'Pencil', 'Notebook', 'Eraser', 'Pen', 'Pencil', 'Notebook', 'Eraser'],\n",
    "    'Price': [10, 5, 50, 20, 10, 5, 50, 20],\n",
    "    'Quantity': [3, 4, 2, 5, 10, 6, 1, 2]\n",
    "}\n",
    "\n",
    "df = pd.DataFrame(data)\n",
    "df['Total_Amount_Spent'] = df['Price'] * df['Quantity']\n",
    "df_g = df.groupby('Customer').agg({'Total_Amount_Spent':sum}).reset_index()\n",
    "df_g"
   ]
  },
  {
   "cell_type": "code",
   "execution_count": 94,
   "id": "0b454fb6-2fb4-4b64-8447-1ca13a374a5e",
   "metadata": {},
   "outputs": [
    {
     "data": {
      "text/html": [
       "<div>\n",
       "<style scoped>\n",
       "    .dataframe tbody tr th:only-of-type {\n",
       "        vertical-align: middle;\n",
       "    }\n",
       "\n",
       "    .dataframe tbody tr th {\n",
       "        vertical-align: top;\n",
       "    }\n",
       "\n",
       "    .dataframe thead th {\n",
       "        text-align: right;\n",
       "    }\n",
       "</style>\n",
       "<table border=\"1\" class=\"dataframe\">\n",
       "  <thead>\n",
       "    <tr style=\"text-align: right;\">\n",
       "      <th></th>\n",
       "      <th>Month</th>\n",
       "      <th>Temperature</th>\n",
       "    </tr>\n",
       "  </thead>\n",
       "  <tbody>\n",
       "    <tr>\n",
       "      <th>6</th>\n",
       "      <td>Jul</td>\n",
       "      <td>35</td>\n",
       "    </tr>\n",
       "  </tbody>\n",
       "</table>\n",
       "</div>"
      ],
      "text/plain": [
       "  Month  Temperature\n",
       "6   Jul           35"
      ]
     },
     "execution_count": 94,
     "metadata": {},
     "output_type": "execute_result"
    }
   ],
   "source": [
    "import pandas as pd\n",
    "data = {\n",
    "    'Month': ['Jan', 'Feb', 'Mar', 'Apr', 'May', 'Jun', 'Jul', 'Aug', 'Sep', 'Oct', 'Nov', 'Dec'],\n",
    "    'Temperature': [20, 22, 25, 27, 30, 32, 35, 34, 30, 28, 24, 21]\n",
    "}\n",
    "df = pd.DataFrame(data)\n",
    "max_temp = df['Temperature'].max()\n",
    "\n",
    "df_max = df[df['Temperature']==max_temp]\n",
    "df_max"
   ]
  },
  {
   "cell_type": "code",
   "execution_count": 95,
   "id": "8071b39a-1eba-46a1-a751-c613b606b5b5",
   "metadata": {},
   "outputs": [
    {
     "name": "stdout",
     "output_type": "stream",
     "text": [
      "195.0\n"
     ]
    }
   ],
   "source": [
    "data = {\n",
    "\n",
    "    'Category': ['Fruit', 'Vegetable', 'Fruit', 'Vegetable', 'Fruit', 'Vegetable'],\n",
    "\n",
    "    'Name': ['Apple', 'Carrot', 'Banana', 'Potato', 'Grape', 'Onion'],\n",
    "\n",
    "    'Price': [2, 1, 1.5, 0.5, 3, 1],\n",
    "\n",
    "    'Quantity': [10, 20, 15, 30, 5, 40]\n",
    "\n",
    "}\n",
    "\n",
    "\n",
    "\n",
    "df = pd.DataFrame(data)\n",
    "\n",
    "\n",
    "\n",
    "fruits = df[df['Category'] == 'Fruit']\n",
    "\n",
    "total_fruit_value = fruits['Price'].sum() * fruits['Quantity'].sum()\n",
    "\n",
    "print(total_fruit_value)"
   ]
  },
  {
   "cell_type": "code",
   "execution_count": 96,
   "id": "04c3ce86-f824-447c-9036-18bdd2cbdb9c",
   "metadata": {},
   "outputs": [
    {
     "data": {
      "text/plain": [
       "195.0"
      ]
     },
     "execution_count": 96,
     "metadata": {},
     "output_type": "execute_result"
    }
   ],
   "source": [
    "(2+1.5+3) * (10+15+5)"
   ]
  },
  {
   "cell_type": "code",
   "execution_count": 97,
   "id": "26542299-6c8c-4e5a-98b9-827d7ca357e2",
   "metadata": {},
   "outputs": [
    {
     "name": "stdout",
     "output_type": "stream",
     "text": [
      "Chicago\n"
     ]
    }
   ],
   "source": [
    "import pandas as pd\n",
    "\n",
    "\n",
    "\n",
    "data = {\n",
    "\n",
    "    'Name': ['Alice', 'Bob', 'Charlie', 'David'],\n",
    "\n",
    "    'Age': [25, 30, 35, 40],\n",
    "\n",
    "    'City': ['New York', 'San Francisco', 'Los Angeles', 'Chicago']\n",
    "\n",
    "}\n",
    "\n",
    "\n",
    "\n",
    "df = pd.DataFrame(data)\n",
    "\n",
    "\n",
    "\n",
    "result = df[df['Age'] >= 30].sort_values(by='Age', ascending=False).iloc[0]['City']\n",
    "\n",
    "print(result)"
   ]
  },
  {
   "cell_type": "code",
   "execution_count": 98,
   "id": "3547f15b-5c38-40fc-a823-19af0371384c",
   "metadata": {},
   "outputs": [
    {
     "name": "stdout",
     "output_type": "stream",
     "text": [
      "9650 225.0\n"
     ]
    }
   ],
   "source": [
    "import pandas as pd\n",
    "\n",
    "\n",
    "\n",
    "data = {\n",
    "\n",
    "    'Product': ['A', 'B', 'C', 'A', 'B', 'C'],\n",
    "\n",
    "    'Price': [100, 200, 300, 150, 250, 350],\n",
    "\n",
    "    'Quantity': [10, 5, 7, 12, 8, 5]\n",
    "\n",
    "}\n",
    "\n",
    "\n",
    "\n",
    "df = pd.DataFrame(data)\n",
    "\n",
    "\n",
    "\n",
    "total_revenue = (df['Price'] * df['Quantity']).sum()\n",
    "\n",
    "average_price = df['Price'].mean()\n",
    "\n",
    "print(total_revenue, average_price)"
   ]
  },
  {
   "cell_type": "code",
   "execution_count": 104,
   "id": "913c368b-4f41-428f-bf5c-3cc94422244e",
   "metadata": {},
   "outputs": [
    {
     "name": "stdout",
     "output_type": "stream",
     "text": [
      "       Item  Total_Amount_Spent\n",
      "0    Eraser                 140\n",
      "1  Notebook                 150\n",
      "2       Pen                 130\n",
      "3    Pencil                  50\n",
      "470\n"
     ]
    },
    {
     "name": "stderr",
     "output_type": "stream",
     "text": [
      "C:\\Users\\dutta\\AppData\\Local\\Temp\\ipykernel_30956\\886106235.py:11: FutureWarning: The provided callable <built-in function sum> is currently using SeriesGroupBy.sum. In a future version of pandas, the provided callable will be used directly. To keep current behavior pass the string \"sum\" instead.\n",
      "  df_g = df.groupby(['Item']).agg({'Total_Amount_Spent':sum}).reset_index()\n"
     ]
    }
   ],
   "source": [
    "import pandas as pd\n",
    "data = {\n",
    "    'Customer': ['Alice', 'Bob', 'Alice', 'Alice', 'Bob', 'Bob', 'Alice', 'Bob'],\n",
    "    'Item': ['Pen', 'Pencil', 'Notebook', 'Eraser', 'Pen', 'Pencil', 'Notebook', 'Eraser'],\n",
    "    'Price': [10, 5, 50, 20, 10, 5, 50, 20],\n",
    "    'Quantity': [3, 4, 2, 5, 10, 6, 1, 2]\n",
    "}\n",
    "\n",
    "df = pd.DataFrame(data)\n",
    "df['Total_Amount_Spent'] = df['Price'] * df['Quantity']\n",
    "df_g = df.groupby(['Item']).agg({'Total_Amount_Spent':sum}).reset_index()\n",
    "\n",
    "Total_Amount = df_g['Total_Amount_Spent'].sum()\n",
    "\n",
    "print(df_g)\n",
    "print(Total_Amount)"
   ]
  },
  {
   "cell_type": "code",
   "execution_count": 105,
   "id": "14032433-57eb-41b1-bda6-cfc176c89bf9",
   "metadata": {},
   "outputs": [
    {
     "data": {
      "text/html": [
       "<div>\n",
       "<style scoped>\n",
       "    .dataframe tbody tr th:only-of-type {\n",
       "        vertical-align: middle;\n",
       "    }\n",
       "\n",
       "    .dataframe tbody tr th {\n",
       "        vertical-align: top;\n",
       "    }\n",
       "\n",
       "    .dataframe thead th {\n",
       "        text-align: right;\n",
       "    }\n",
       "</style>\n",
       "<table border=\"1\" class=\"dataframe\">\n",
       "  <thead>\n",
       "    <tr style=\"text-align: right;\">\n",
       "      <th></th>\n",
       "      <th>Month</th>\n",
       "      <th>City_A_Temp</th>\n",
       "      <th>City_B_Temp</th>\n",
       "      <th>Different_Temp</th>\n",
       "    </tr>\n",
       "  </thead>\n",
       "  <tbody>\n",
       "    <tr>\n",
       "      <th>0</th>\n",
       "      <td>Jan</td>\n",
       "      <td>20</td>\n",
       "      <td>10</td>\n",
       "      <td>10</td>\n",
       "    </tr>\n",
       "    <tr>\n",
       "      <th>1</th>\n",
       "      <td>Feb</td>\n",
       "      <td>22</td>\n",
       "      <td>12</td>\n",
       "      <td>10</td>\n",
       "    </tr>\n",
       "    <tr>\n",
       "      <th>2</th>\n",
       "      <td>Mar</td>\n",
       "      <td>25</td>\n",
       "      <td>15</td>\n",
       "      <td>10</td>\n",
       "    </tr>\n",
       "    <tr>\n",
       "      <th>3</th>\n",
       "      <td>Apr</td>\n",
       "      <td>27</td>\n",
       "      <td>17</td>\n",
       "      <td>10</td>\n",
       "    </tr>\n",
       "    <tr>\n",
       "      <th>4</th>\n",
       "      <td>May</td>\n",
       "      <td>30</td>\n",
       "      <td>20</td>\n",
       "      <td>10</td>\n",
       "    </tr>\n",
       "    <tr>\n",
       "      <th>5</th>\n",
       "      <td>Jun</td>\n",
       "      <td>32</td>\n",
       "      <td>22</td>\n",
       "      <td>10</td>\n",
       "    </tr>\n",
       "    <tr>\n",
       "      <th>6</th>\n",
       "      <td>Jul</td>\n",
       "      <td>35</td>\n",
       "      <td>25</td>\n",
       "      <td>10</td>\n",
       "    </tr>\n",
       "    <tr>\n",
       "      <th>7</th>\n",
       "      <td>Aug</td>\n",
       "      <td>34</td>\n",
       "      <td>24</td>\n",
       "      <td>10</td>\n",
       "    </tr>\n",
       "    <tr>\n",
       "      <th>8</th>\n",
       "      <td>Sep</td>\n",
       "      <td>30</td>\n",
       "      <td>20</td>\n",
       "      <td>10</td>\n",
       "    </tr>\n",
       "    <tr>\n",
       "      <th>9</th>\n",
       "      <td>Oct</td>\n",
       "      <td>28</td>\n",
       "      <td>18</td>\n",
       "      <td>10</td>\n",
       "    </tr>\n",
       "    <tr>\n",
       "      <th>10</th>\n",
       "      <td>Nov</td>\n",
       "      <td>24</td>\n",
       "      <td>14</td>\n",
       "      <td>10</td>\n",
       "    </tr>\n",
       "    <tr>\n",
       "      <th>11</th>\n",
       "      <td>Dec</td>\n",
       "      <td>21</td>\n",
       "      <td>11</td>\n",
       "      <td>10</td>\n",
       "    </tr>\n",
       "  </tbody>\n",
       "</table>\n",
       "</div>"
      ],
      "text/plain": [
       "   Month  City_A_Temp  City_B_Temp  Different_Temp\n",
       "0    Jan           20           10              10\n",
       "1    Feb           22           12              10\n",
       "2    Mar           25           15              10\n",
       "3    Apr           27           17              10\n",
       "4    May           30           20              10\n",
       "5    Jun           32           22              10\n",
       "6    Jul           35           25              10\n",
       "7    Aug           34           24              10\n",
       "8    Sep           30           20              10\n",
       "9    Oct           28           18              10\n",
       "10   Nov           24           14              10\n",
       "11   Dec           21           11              10"
      ]
     },
     "execution_count": 105,
     "metadata": {},
     "output_type": "execute_result"
    }
   ],
   "source": [
    "import pandas as pd\n",
    "data = {\n",
    "    'Month': ['Jan', 'Feb', 'Mar', 'Apr', 'May', 'Jun', 'Jul', 'Aug', 'Sep', 'Oct', 'Nov', 'Dec'],\n",
    "    'City_A_Temp': [20, 22, 25, 27, 30, 32, 35, 34, 30, 28, 24, 21],\n",
    "    'City_B_Temp': [10, 12, 15, 17, 20, 22, 25, 24, 20, 18, 14, 11]\n",
    "}\n",
    "\n",
    "df = pd.DataFrame(data)\n",
    "df['Different_Temp'] = df['City_A_Temp'] - df['City_B_Temp']\n",
    "df"
   ]
  },
  {
   "cell_type": "code",
   "execution_count": null,
   "id": "42ad7bfd-baf0-4ff4-9408-f28f05f4602b",
   "metadata": {},
   "outputs": [],
   "source": []
  },
  {
   "cell_type": "code",
   "execution_count": null,
   "id": "202bc066-20f4-4a28-b679-cbe8805ada39",
   "metadata": {},
   "outputs": [],
   "source": []
  },
  {
   "cell_type": "code",
   "execution_count": null,
   "id": "0f97616a-4647-4805-97fd-8137fa3f9b23",
   "metadata": {},
   "outputs": [],
   "source": []
  },
  {
   "cell_type": "code",
   "execution_count": null,
   "id": "8316206d-4fc1-4edd-b569-3010b217b3df",
   "metadata": {},
   "outputs": [],
   "source": []
  },
  {
   "cell_type": "code",
   "execution_count": null,
   "id": "fca7dca9-2ee7-454f-84a0-ea8a858c2571",
   "metadata": {},
   "outputs": [],
   "source": []
  },
  {
   "cell_type": "code",
   "execution_count": null,
   "id": "e163dd56-d81a-46a5-a2b0-be9d372c4605",
   "metadata": {},
   "outputs": [],
   "source": []
  },
  {
   "cell_type": "code",
   "execution_count": null,
   "id": "5408026e-991b-44c4-9c84-48bbf65178dd",
   "metadata": {},
   "outputs": [],
   "source": []
  },
  {
   "cell_type": "code",
   "execution_count": null,
   "id": "8be1c772-7fae-4d3a-a921-9a96569824e9",
   "metadata": {},
   "outputs": [],
   "source": []
  },
  {
   "cell_type": "code",
   "execution_count": null,
   "id": "de07ab15-fcae-407f-bcad-ccbcb9754ddf",
   "metadata": {},
   "outputs": [],
   "source": []
  },
  {
   "cell_type": "code",
   "execution_count": null,
   "id": "eea13bce-0f14-4d4a-9ed0-b6df27cca0d2",
   "metadata": {},
   "outputs": [],
   "source": []
  },
  {
   "cell_type": "code",
   "execution_count": null,
   "id": "45b741cb-e286-44b9-b87f-25e67cb70313",
   "metadata": {},
   "outputs": [],
   "source": []
  },
  {
   "cell_type": "code",
   "execution_count": null,
   "id": "5991ae88-ff9a-4bbb-be42-b3e230fd68d6",
   "metadata": {},
   "outputs": [],
   "source": []
  },
  {
   "cell_type": "code",
   "execution_count": null,
   "id": "d0ddd83b-6dd8-466a-94be-e353e4ca4909",
   "metadata": {},
   "outputs": [],
   "source": []
  },
  {
   "cell_type": "code",
   "execution_count": null,
   "id": "eac2ce9f-4a7a-4e52-bee0-52950fd15234",
   "metadata": {},
   "outputs": [],
   "source": []
  },
  {
   "cell_type": "code",
   "execution_count": null,
   "id": "1f036f41-161e-433b-9c6e-c83b050e5537",
   "metadata": {},
   "outputs": [],
   "source": []
  },
  {
   "cell_type": "code",
   "execution_count": null,
   "id": "c6f35a25-c9fa-4404-ba31-789d3e3fae7a",
   "metadata": {},
   "outputs": [],
   "source": []
  },
  {
   "cell_type": "code",
   "execution_count": null,
   "id": "45e542d6-8b80-46cb-bed6-2279963150ba",
   "metadata": {},
   "outputs": [],
   "source": []
  },
  {
   "cell_type": "code",
   "execution_count": null,
   "id": "4a01f4eb-714b-4f8c-ba2d-9038c7bad35d",
   "metadata": {},
   "outputs": [],
   "source": []
  },
  {
   "cell_type": "code",
   "execution_count": null,
   "id": "905ce536-18f3-46d0-8c0c-aedb6a92dfc6",
   "metadata": {},
   "outputs": [],
   "source": []
  },
  {
   "cell_type": "code",
   "execution_count": null,
   "id": "c9cd0cc0-03b3-48cf-b3bb-b81ea85a7e32",
   "metadata": {},
   "outputs": [],
   "source": []
  },
  {
   "cell_type": "code",
   "execution_count": null,
   "id": "3af492f5-dcf2-4726-99f1-965fdb82b947",
   "metadata": {},
   "outputs": [],
   "source": []
  },
  {
   "cell_type": "code",
   "execution_count": 73,
   "id": "fe772430-e2c4-4f60-8b65-ecb9d9d0e73b",
   "metadata": {},
   "outputs": [
    {
     "data": {
      "text/plain": [
       "<pandas.core.groupby.generic.DataFrameGroupBy object at 0x0000026B33F4EDE0>"
      ]
     },
     "execution_count": 73,
     "metadata": {},
     "output_type": "execute_result"
    }
   ],
   "source": []
  },
  {
   "cell_type": "code",
   "execution_count": null,
   "id": "aa9e3186-c016-4dc3-bb6f-4e97a554bf41",
   "metadata": {},
   "outputs": [],
   "source": []
  },
  {
   "cell_type": "code",
   "execution_count": null,
   "id": "12d6b745-6b73-484f-a503-4d2f7d607514",
   "metadata": {},
   "outputs": [],
   "source": []
  },
  {
   "cell_type": "code",
   "execution_count": null,
   "id": "4962163a-07aa-4798-b581-8f342f901541",
   "metadata": {},
   "outputs": [],
   "source": []
  },
  {
   "cell_type": "code",
   "execution_count": null,
   "id": "8f0891f0-fb35-4cdb-9bc6-5cdfb69f3dbe",
   "metadata": {},
   "outputs": [],
   "source": []
  },
  {
   "cell_type": "code",
   "execution_count": null,
   "id": "9e880577-0779-42ae-bed2-0f3e4b7cb258",
   "metadata": {},
   "outputs": [],
   "source": []
  },
  {
   "cell_type": "code",
   "execution_count": null,
   "id": "2f892f75-5326-413b-9439-82a6ba75a4fe",
   "metadata": {},
   "outputs": [],
   "source": []
  },
  {
   "cell_type": "code",
   "execution_count": null,
   "id": "866fa355-ec3e-4ee6-8855-455a3ec286b3",
   "metadata": {},
   "outputs": [],
   "source": []
  },
  {
   "cell_type": "code",
   "execution_count": null,
   "id": "fc12a31b-b12e-4e93-856d-09c8ce6a7900",
   "metadata": {},
   "outputs": [],
   "source": []
  },
  {
   "cell_type": "code",
   "execution_count": null,
   "id": "200c7cb6-57c3-4ab3-abd7-e72dcd7d7ec1",
   "metadata": {},
   "outputs": [],
   "source": []
  },
  {
   "cell_type": "code",
   "execution_count": null,
   "id": "18237e02-1f4c-4cf5-8d1b-2df1124d5498",
   "metadata": {},
   "outputs": [],
   "source": []
  },
  {
   "cell_type": "code",
   "execution_count": null,
   "id": "445f299f-1d5e-4eeb-ae8c-658e25f9374a",
   "metadata": {},
   "outputs": [],
   "source": []
  },
  {
   "cell_type": "code",
   "execution_count": null,
   "id": "c24f04ee-0673-4ce8-9407-8a40629d084f",
   "metadata": {},
   "outputs": [],
   "source": []
  },
  {
   "cell_type": "code",
   "execution_count": null,
   "id": "9ea8351e-a865-4d2a-8fd8-608d99f591b7",
   "metadata": {},
   "outputs": [],
   "source": []
  },
  {
   "cell_type": "code",
   "execution_count": null,
   "id": "7e19940a-30d7-47e4-b7d2-cc0b8fed1b49",
   "metadata": {},
   "outputs": [],
   "source": []
  },
  {
   "cell_type": "code",
   "execution_count": null,
   "id": "ae629a2f-1e71-4917-bff4-046c48b31e69",
   "metadata": {},
   "outputs": [],
   "source": []
  },
  {
   "cell_type": "code",
   "execution_count": null,
   "id": "fabfa70d-6513-4a04-8e24-0421e73c0900",
   "metadata": {},
   "outputs": [],
   "source": []
  },
  {
   "cell_type": "code",
   "execution_count": null,
   "id": "91d83127-35cd-4a27-bac7-296f1d91d392",
   "metadata": {},
   "outputs": [],
   "source": []
  },
  {
   "cell_type": "code",
   "execution_count": null,
   "id": "a82d96b2-0fca-4590-b053-27e57721242f",
   "metadata": {},
   "outputs": [],
   "source": []
  },
  {
   "cell_type": "code",
   "execution_count": null,
   "id": "6201d49d-1244-4601-ba52-9f3cc18020a9",
   "metadata": {},
   "outputs": [],
   "source": []
  },
  {
   "cell_type": "code",
   "execution_count": null,
   "id": "0f40a4aa-3859-48e8-a1d9-2753690b27e0",
   "metadata": {},
   "outputs": [],
   "source": []
  },
  {
   "cell_type": "code",
   "execution_count": null,
   "id": "bb7710c9-7ea0-4b9d-8d64-87e47727a528",
   "metadata": {},
   "outputs": [],
   "source": []
  },
  {
   "cell_type": "code",
   "execution_count": null,
   "id": "baa4b74a-f7c0-41e0-822f-317d7dbb1b34",
   "metadata": {},
   "outputs": [],
   "source": []
  },
  {
   "cell_type": "code",
   "execution_count": null,
   "id": "fd8e175f-fda8-48b0-8193-12c797a4b527",
   "metadata": {},
   "outputs": [],
   "source": []
  },
  {
   "cell_type": "code",
   "execution_count": 8,
   "id": "8176d81b-9d80-4ff0-99b2-a91e08b74d34",
   "metadata": {},
   "outputs": [
    {
     "name": "stdout",
     "output_type": "stream",
     "text": [
      "   id     name\n",
      "0   1  karthik\n",
      "1   2   nikhil\n",
      "2   3    bhagi\n"
     ]
    }
   ],
   "source": [
    "import pandas as pd \n",
    "  \n",
    "data = {\"id\": [1, 2, 3], \n",
    "        \"name\": [\"karthik\", \"nikhil\", \"bhagi\"]} \n",
    "  \n",
    "df = pd.DataFrame(data) \n",
    "print(df)"
   ]
  },
  {
   "cell_type": "code",
   "execution_count": 16,
   "id": "03f23a31-cdc3-4a86-9c7b-360fcee7b13a",
   "metadata": {},
   "outputs": [
    {
     "name": "stdout",
     "output_type": "stream",
     "text": [
      "[-3  6 -3]\n"
     ]
    }
   ],
   "source": [
    "import numpy as np\n",
    "\n",
    "arr1 = np.array([1, 2, 3])\n",
    "\n",
    "arr2 = np.array([4, 5, 6])\n",
    "\n",
    "result = np.cross(arr1, arr2)\n",
    "\n",
    "print(result)"
   ]
  },
  {
   "cell_type": "code",
   "execution_count": 23,
   "id": "ea7bcfde-2b5a-4401-8f6c-afaacbe69270",
   "metadata": {},
   "outputs": [
    {
     "name": "stdout",
     "output_type": "stream",
     "text": [
      "54.36\n",
      "30.55863871313642\n"
     ]
    }
   ],
   "source": [
    "import numpy as np \n",
    "\n",
    "arr = np.random.randint(1, 100, size=25).reshape(5,5)\n",
    "\n",
    "print(np.mean(arr))\n",
    "print(np.std(arr))"
   ]
  },
  {
   "cell_type": "code",
   "execution_count": 28,
   "id": "710e68e4-d448-4413-bfa9-0e6bbd56a975",
   "metadata": {},
   "outputs": [
    {
     "name": "stdout",
     "output_type": "stream",
     "text": [
      "[[6. 5. 5. 5. 5.]\n",
      " [5. 6. 5. 5. 5.]\n",
      " [5. 5. 6. 5. 5.]\n",
      " [5. 5. 5. 6. 5.]\n",
      " [5. 5. 5. 5. 6.]]\n",
      "[[3]\n",
      " [8]\n",
      " [2]\n",
      " [8]\n",
      " [2]]\n",
      "[[18. 15. 15. 15. 15.]\n",
      " [40. 48. 40. 40. 40.]\n",
      " [10. 10. 12. 10. 10.]\n",
      " [40. 40. 40. 48. 40.]\n",
      " [10. 10. 10. 10. 12.]]\n"
     ]
    }
   ],
   "source": [
    "import numpy as np\n",
    "arr_one = np.identity(5).reshape(5,5)\n",
    "arr_one= arr_one +5\n",
    "print(arr_one)\n",
    "arr_two = np.random.randint(1, 10, size=5).reshape(5,1)\n",
    "print(arr_two)\n",
    "\n",
    "arr_mul = np.multiply(arr_one,arr_two)\n",
    "print(arr_mul)\n"
   ]
  },
  {
   "cell_type": "code",
   "execution_count": 30,
   "id": "0188e63f-8521-40cc-b0c6-d5c6d943fe25",
   "metadata": {},
   "outputs": [
    {
     "name": "stdout",
     "output_type": "stream",
     "text": [
      "[[7 6 9]\n",
      " [2 2 5]\n",
      " [8 2 7]]\n",
      "[[8 5 9]\n",
      " [7 2 5]\n",
      " [8 7 8]]\n",
      "[[56 30 81]\n",
      " [14  4 25]\n",
      " [64 14 56]]\n"
     ]
    }
   ],
   "source": [
    "import numpy as np\n",
    "arr_one = np.random.randint(1, 10, size=9).reshape(3,3)\n",
    "print(arr_one)\n",
    "arr_two = np.random.randint(1, 10, size=9).reshape(3,3)\n",
    "print(arr_two)\n",
    "\n",
    "arr_mul = np.multiply(arr_one,arr_two)\n",
    "print(arr_mul)"
   ]
  },
  {
   "cell_type": "code",
   "execution_count": 32,
   "id": "5ea2726d-e78d-4dff-9c82-397b7680d4ba",
   "metadata": {},
   "outputs": [
    {
     "name": "stdout",
     "output_type": "stream",
     "text": [
      "5239\n",
      "50190\n",
      "252058\n"
     ]
    }
   ],
   "source": [
    "import numpy as np\n",
    "arr_one = np.random.randint(1, 1001, size=1000)\n",
    "\n",
    "arr_sum = np.cumsum(arr_one)\n",
    "\n",
    "print(arr_sum[9])\n",
    "print(arr_sum[99])\n",
    "print(arr_sum[499])\n"
   ]
  },
  {
   "cell_type": "code",
   "execution_count": 34,
   "id": "c4eb9989-218a-4451-8aad-ec6f81460a7c",
   "metadata": {},
   "outputs": [
    {
     "name": "stdout",
     "output_type": "stream",
     "text": [
      "100\n",
      "3\n",
      "(4, 7)\n",
      "(0, 7)\n"
     ]
    }
   ],
   "source": [
    "import numpy as np\n",
    "arr_one = np.random.randint(1, 101, size=100).reshape(10,10)\n",
    "\n",
    "arr_max= np.max(arr_one)\n",
    "arr_min= np.min(arr_one)\n",
    "\n",
    "arr_min_index = np.unravel_index(np.argmin(arr_one), arr_one.shape)\n",
    "arr_max_index = np.unravel_index(np.argmax(arr_one), arr_one.shape)\n",
    "\n",
    "print(arr_max)\n",
    "print(arr_min)\n",
    "\n",
    "print(arr_min_index)\n",
    "print(arr_max_index)"
   ]
  },
  {
   "cell_type": "code",
   "execution_count": 39,
   "id": "c861517f-85e8-4abf-9a2e-77f7aab1b983",
   "metadata": {},
   "outputs": [
    {
     "name": "stdout",
     "output_type": "stream",
     "text": [
      "[[0.37213333 0.56216387 0.27841906 0.12717169 0.20387736]\n",
      " [0.54902004 0.39289863 0.30561531 0.36918296 0.3979404 ]\n",
      " [0.07162005 0.23819216 0.02862499 0.53217685 0.91665793]\n",
      " [0.7882424  0.99429151 0.84344224 0.25108496 0.49281276]\n",
      " [0.63366795 0.38760816 0.17541255 0.50077628 0.25916103]]\n",
      "0.9942915083552862\n",
      "[[0.37213333 0.56216387 0.27841906 0.12717169 0.20387736]\n",
      " [0.54902004 0.39289863 0.30561531 0.36918296 0.3979404 ]\n",
      " [0.07162005 0.23819216 0.02862499 0.53217685 0.91665793]\n",
      " [0.7882424  0.         0.84344224 0.25108496 0.49281276]\n",
      " [0.63366795 0.38760816 0.17541255 0.50077628 0.25916103]]\n"
     ]
    }
   ],
   "source": [
    "import numpy as np\n",
    "arr_one = np.random.rand(5,5)\n",
    "arr_max= np.max(arr_one)\n",
    "arr_one[arr_one==arr_max]=0\n",
    "print(arr_one)\n"
   ]
  },
  {
   "cell_type": "code",
   "execution_count": 41,
   "id": "35e9ed13-a715-4cdf-b2da-0e2b8430a831",
   "metadata": {},
   "outputs": [
    {
     "name": "stdout",
     "output_type": "stream",
     "text": [
      "[[4 5]\n",
      " [7 8]]\n",
      "[[  1   2   3]\n",
      " [100   5   6]\n",
      " [  7   8   9]]\n"
     ]
    }
   ],
   "source": [
    "A = np.array([[1, 2, 3], [4, 5, 6], [7, 8, 9]])\n",
    "\n",
    "B = A[1:3, 0:2]\n",
    "\n",
    "\n",
    "print(B)\n",
    "B[0, 0] = 100\n",
    "\n",
    "print(A)"
   ]
  },
  {
   "cell_type": "code",
   "execution_count": 43,
   "id": "53a19787-67f0-4988-80e7-c0a0e86ea300",
   "metadata": {},
   "outputs": [
    {
     "name": "stdout",
     "output_type": "stream",
     "text": [
      "[62 22 14 36 76 88 32  2]\n",
      "[91 45 29 71 79  3 77 61 53  9 99 23]\n"
     ]
    }
   ],
   "source": [
    "import numpy as np\n",
    "arr_one = np.random.randint(1, 101, size=20)\n",
    "\n",
    "print(arr_one[arr_one%2==0])\n",
    "print(arr_one[arr_one%2!=0])"
   ]
  },
  {
   "cell_type": "code",
   "execution_count": 45,
   "id": "e3f8c089-aacd-46e5-857b-70ec49f3bdd9",
   "metadata": {},
   "outputs": [
    {
     "name": "stdout",
     "output_type": "stream",
     "text": [
      "[[ 4  3  2  1]\n",
      " [ 8  7  6  5]\n",
      " [12 11 10  9]\n",
      " [16 15 14 13]]\n"
     ]
    }
   ],
   "source": [
    "import numpy as np\n",
    "A = np.arange(1, 17).reshape(4, 4)\n",
    "B = A[:, ::-1]\n",
    "print(B)"
   ]
  },
  {
   "cell_type": "code",
   "execution_count": 46,
   "id": "1888fc2f-c18f-4ac2-81ea-dbcf47100806",
   "metadata": {},
   "outputs": [
    {
     "name": "stdout",
     "output_type": "stream",
     "text": [
      "[[1. 1. 1. 1. 1. 1. 1. 1.]\n",
      " [1. 0. 0. 0. 0. 0. 0. 1.]\n",
      " [1. 0. 0. 0. 0. 0. 0. 1.]\n",
      " [1. 0. 0. 0. 0. 0. 0. 1.]\n",
      " [1. 0. 0. 0. 0. 0. 0. 1.]\n",
      " [1. 0. 0. 0. 0. 0. 0. 1.]\n",
      " [1. 0. 0. 0. 0. 0. 0. 1.]\n",
      " [1. 1. 1. 1. 1. 1. 1. 1.]]\n"
     ]
    }
   ],
   "source": [
    "import numpy as np\n",
    "arr_one = np.zeros((8, 8))\n",
    "arr_one[0, :] = 1\n",
    "arr_one[-1, :] = 1\n",
    "arr_one[:, 0] = 1\n",
    "arr_one[:, -1] = 1\n",
    "print(arr_one)"
   ]
  },
  {
   "cell_type": "code",
   "execution_count": null,
   "id": "1451a35a-68cf-420a-8372-bf9d290700a3",
   "metadata": {},
   "outputs": [],
   "source": []
  },
  {
   "cell_type": "code",
   "execution_count": null,
   "id": "6ec9aabe-1402-4997-a86e-db6d59283a8c",
   "metadata": {},
   "outputs": [],
   "source": []
  },
  {
   "cell_type": "code",
   "execution_count": null,
   "id": "fa94d2c8-41ee-4c06-9e59-7748aa198d29",
   "metadata": {},
   "outputs": [],
   "source": []
  },
  {
   "cell_type": "code",
   "execution_count": null,
   "id": "5e027b8b-0018-41d0-ab19-83e1d1fac9e2",
   "metadata": {},
   "outputs": [],
   "source": []
  },
  {
   "cell_type": "code",
   "execution_count": null,
   "id": "ac40ce70-bb51-402b-9e04-559f49c48a82",
   "metadata": {},
   "outputs": [],
   "source": []
  },
  {
   "cell_type": "code",
   "execution_count": null,
   "id": "04317aed-b9de-4282-bb80-526396b41434",
   "metadata": {},
   "outputs": [],
   "source": []
  },
  {
   "cell_type": "code",
   "execution_count": null,
   "id": "aef3c49b-753e-4bca-b182-bb34d679b8f0",
   "metadata": {},
   "outputs": [],
   "source": []
  },
  {
   "cell_type": "code",
   "execution_count": null,
   "id": "298898b1-02c7-4fb0-b140-60ec4d7e3e74",
   "metadata": {},
   "outputs": [],
   "source": []
  },
  {
   "cell_type": "code",
   "execution_count": null,
   "id": "fb59f343-ff58-44e2-a114-7759b7cf7d62",
   "metadata": {},
   "outputs": [],
   "source": []
  },
  {
   "cell_type": "code",
   "execution_count": null,
   "id": "87563cd6-5ab7-461e-b34f-b63375e9f876",
   "metadata": {},
   "outputs": [],
   "source": []
  },
  {
   "cell_type": "code",
   "execution_count": null,
   "id": "599bd782-31fc-4486-8656-adab3924f629",
   "metadata": {},
   "outputs": [],
   "source": []
  },
  {
   "cell_type": "code",
   "execution_count": null,
   "id": "c725887a-a728-4388-b44e-d53a24b56959",
   "metadata": {},
   "outputs": [],
   "source": []
  },
  {
   "cell_type": "code",
   "execution_count": null,
   "id": "f0062b69-798c-4308-8129-a775701e347a",
   "metadata": {},
   "outputs": [],
   "source": []
  },
  {
   "cell_type": "code",
   "execution_count": null,
   "id": "052fe2e3-99c8-4096-aea9-881072a15abf",
   "metadata": {},
   "outputs": [],
   "source": []
  },
  {
   "cell_type": "code",
   "execution_count": null,
   "id": "bc1dd586-4ab9-4cc4-958d-4ca67e2e3a93",
   "metadata": {},
   "outputs": [],
   "source": []
  },
  {
   "cell_type": "code",
   "execution_count": null,
   "id": "14da403e-a18a-4264-afef-43df8463df38",
   "metadata": {},
   "outputs": [],
   "source": []
  },
  {
   "cell_type": "code",
   "execution_count": null,
   "id": "40dcf6fe-b43c-4322-baff-763e5f084fb8",
   "metadata": {},
   "outputs": [],
   "source": []
  },
  {
   "cell_type": "code",
   "execution_count": null,
   "id": "6c4f2cc1-33ac-43c9-8a1d-450a16ff58bc",
   "metadata": {},
   "outputs": [],
   "source": []
  },
  {
   "cell_type": "code",
   "execution_count": null,
   "id": "c75b01d0-a2ab-4cbe-9eef-52e17e16ac14",
   "metadata": {},
   "outputs": [],
   "source": []
  },
  {
   "cell_type": "code",
   "execution_count": null,
   "id": "96313dea-a6ee-41b7-9ea3-cbd1ce90a6ef",
   "metadata": {},
   "outputs": [],
   "source": []
  },
  {
   "cell_type": "code",
   "execution_count": null,
   "id": "a555f9b9-3913-47b9-a0ab-a8236a829f82",
   "metadata": {},
   "outputs": [],
   "source": []
  },
  {
   "cell_type": "code",
   "execution_count": null,
   "id": "edc0a795-f47c-429e-93c9-030239c88ba1",
   "metadata": {},
   "outputs": [],
   "source": []
  },
  {
   "cell_type": "code",
   "execution_count": null,
   "id": "4b125e86-8853-48d9-abfd-c0ece1d16206",
   "metadata": {},
   "outputs": [],
   "source": []
  },
  {
   "cell_type": "code",
   "execution_count": null,
   "id": "6462ccf0-8242-486e-802c-f0c6a6739375",
   "metadata": {},
   "outputs": [],
   "source": []
  },
  {
   "cell_type": "code",
   "execution_count": null,
   "id": "ba1b0348-e6bf-4251-baa7-f5f47988770f",
   "metadata": {},
   "outputs": [],
   "source": []
  },
  {
   "cell_type": "code",
   "execution_count": null,
   "id": "e399bbd8-447a-4b4a-86a4-c038968be188",
   "metadata": {},
   "outputs": [],
   "source": []
  },
  {
   "cell_type": "code",
   "execution_count": null,
   "id": "3911210e-6a13-47cc-a61a-0d7778070d45",
   "metadata": {},
   "outputs": [],
   "source": []
  },
  {
   "cell_type": "code",
   "execution_count": null,
   "id": "b4db68b8-50f8-41c7-b159-b3cbc7ff1335",
   "metadata": {},
   "outputs": [],
   "source": []
  },
  {
   "cell_type": "code",
   "execution_count": null,
   "id": "2d794619-ae09-459b-a6c7-b6550d11fb37",
   "metadata": {},
   "outputs": [],
   "source": []
  },
  {
   "cell_type": "code",
   "execution_count": null,
   "id": "f26f6387-8639-4caf-8b15-4a32501b8f49",
   "metadata": {},
   "outputs": [],
   "source": []
  },
  {
   "cell_type": "code",
   "execution_count": null,
   "id": "77f0432a-d41c-4a0d-83ae-27ed7965631e",
   "metadata": {},
   "outputs": [],
   "source": []
  },
  {
   "cell_type": "code",
   "execution_count": null,
   "id": "677eed2b-8f1c-4fcd-a6bc-bd99d9f60479",
   "metadata": {},
   "outputs": [],
   "source": []
  }
 ],
 "metadata": {
  "kernelspec": {
   "display_name": "Python 3 (ipykernel)",
   "language": "python",
   "name": "python3"
  },
  "language_info": {
   "codemirror_mode": {
    "name": "ipython",
    "version": 3
   },
   "file_extension": ".py",
   "mimetype": "text/x-python",
   "name": "python",
   "nbconvert_exporter": "python",
   "pygments_lexer": "ipython3",
   "version": "3.12.4"
  }
 },
 "nbformat": 4,
 "nbformat_minor": 5
}
