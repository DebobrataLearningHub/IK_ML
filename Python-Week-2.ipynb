{
 "cells": [
  {
   "cell_type": "markdown",
   "id": "e587d4dd-7dd5-4c36-b4fc-113f78f51240",
   "metadata": {},
   "source": [
    "## 1 Majority Element"
   ]
  },
  {
   "cell_type": "code",
   "execution_count": 3,
   "id": "09797531-6384-4ab1-b3b7-b3cb773d2b73",
   "metadata": {},
   "outputs": [
    {
     "data": {
      "text/plain": [
       "4"
      ]
     },
     "execution_count": 3,
     "metadata": {},
     "output_type": "execute_result"
    }
   ],
   "source": [
    "def majority_element(nums):\n",
    "    \"\"\"\n",
    "    Args:\n",
    "     nums(list_int32)\n",
    "    Returns:\n",
    "     int32\n",
    "    \"\"\"\n",
    "    freq={}\n",
    "    for num in nums:\n",
    "        if num in freq:\n",
    "            freq[num] +=1\n",
    "        else:\n",
    "            freq[num] =1\n",
    "        if(freq[num]>len(nums)//2):\n",
    "            return num\n",
    "\n",
    "majority_element([4,2,3,4,4])"
   ]
  },
  {
   "cell_type": "markdown",
   "id": "52d02a44-4ec5-47a3-b051-dba0f69aada0",
   "metadata": {},
   "source": [
    "## 2 Two Sum In A Sorted Array"
   ]
  },
  {
   "cell_type": "code",
   "execution_count": 23,
   "id": "04734adb-99db-4a38-b69b-5079b6781739",
   "metadata": {},
   "outputs": [
    {
     "data": {
      "text/plain": [
       "[3, 0]"
      ]
     },
     "execution_count": 23,
     "metadata": {},
     "output_type": "execute_result"
    }
   ],
   "source": [
    "def pair_sum_sorted_array(numbers, target):\n",
    "    \"\"\"\n",
    "    Args:\n",
    "     numbers(list_int32)\n",
    "     target(int32)\n",
    "    Returns:\n",
    "     list_int32\n",
    "    \"\"\"\n",
    "    dict_1={}\n",
    "    for idx,num in enumerate(numbers):\n",
    "        remaining = target - num\n",
    "        if remaining in dict_1:\n",
    "            return [idx,dict_1[remaining]]\n",
    "        else:\n",
    "            dict_1[num]=idx\n",
    "    return [-1,-1]\n",
    "pair_sum_sorted_array([3,2,2,4],7)"
   ]
  },
  {
   "cell_type": "markdown",
   "id": "6926d11d-e178-4e7e-922b-d7ef394b1b9f",
   "metadata": {},
   "source": [
    "## 2 Two Sum In A Sorted Array  (Two pointer Approach)"
   ]
  },
  {
   "cell_type": "code",
   "execution_count": 24,
   "id": "249a1230-ace6-4888-bdf1-db505c6f331e",
   "metadata": {},
   "outputs": [
    {
     "data": {
      "text/plain": [
       "[0, 3]"
      ]
     },
     "execution_count": 24,
     "metadata": {},
     "output_type": "execute_result"
    }
   ],
   "source": [
    "def pair_sum_sorted_array(numbers, target):\n",
    "    \"\"\"\n",
    "    Args:\n",
    "     numbers(list_int32)\n",
    "     target(int32)\n",
    "    Returns:\n",
    "     list_int32\n",
    "    \"\"\"\n",
    "    left = 0\n",
    "    right = len(numbers)-1\n",
    "    while(left<right):\n",
    "        sum_value = numbers[left] + numbers[right]\n",
    "        if sum_value > target:\n",
    "            right -=1\n",
    "        elif sum_value < target:\n",
    "            left +=1\n",
    "        else:\n",
    "            return [left,right]\n",
    "    return [-1,-1]\n",
    "\n",
    "pair_sum_sorted_array([3,2,2,4],7)"
   ]
  },
  {
   "cell_type": "code",
   "execution_count": null,
   "id": "975f391b-28b9-4b8e-befc-a56e12c17978",
   "metadata": {},
   "outputs": [],
   "source": []
  },
  {
   "cell_type": "markdown",
   "id": "d747db24-5384-4904-9bc4-d2da1187039a",
   "metadata": {},
   "source": [
    "## 3 Check If An Array Contains Duplicates"
   ]
  },
  {
   "cell_type": "code",
   "execution_count": 25,
   "id": "c445724a-b1b0-4f89-b957-35ec4401e7ca",
   "metadata": {},
   "outputs": [
    {
     "data": {
      "text/plain": [
       "True"
      ]
     },
     "execution_count": 25,
     "metadata": {},
     "output_type": "execute_result"
    }
   ],
   "source": [
    "def check_if_array_contains_duplicate(nums):\n",
    "    \"\"\"\n",
    "    Args:\n",
    "     nums(list_int32)\n",
    "    Returns:\n",
    "     bool\n",
    "    \"\"\"\n",
    "    # Write your code here.\n",
    "    duplicate =[]\n",
    "    for num in nums:\n",
    "        if num in duplicate:\n",
    "            return True\n",
    "        else:\n",
    "            duplicate.append(num)\n",
    "        \n",
    "    return False\n",
    "\n",
    "check_if_array_contains_duplicate([10, 30, 10, 20])"
   ]
  },
  {
   "cell_type": "markdown",
   "id": "f23c7282-1033-4fb8-9a22-2efe93206728",
   "metadata": {},
   "source": [
    "## 3 Check If An Array Contains Duplicates (Alternet Approach)"
   ]
  },
  {
   "cell_type": "code",
   "execution_count": 27,
   "id": "131d4877-3ab8-438c-a87c-0d282b15c7c2",
   "metadata": {},
   "outputs": [
    {
     "data": {
      "text/plain": [
       "True"
      ]
     },
     "execution_count": 27,
     "metadata": {},
     "output_type": "execute_result"
    }
   ],
   "source": [
    "def check_if_array_contains_duplicate(nums):\n",
    "    \"\"\"\n",
    "    Args:\n",
    "     nums(list_int32)\n",
    "    Returns:\n",
    "     bool\n",
    "    \"\"\"\n",
    "    # Write your code here.\n",
    "    if len(set(nums))<len(nums):\n",
    "        return True\n",
    "    else:\n",
    "        return False\n",
    "\n",
    "check_if_array_contains_duplicate([10, 30, 10, 20])"
   ]
  },
  {
   "cell_type": "markdown",
   "id": "dfcc653d-f447-4147-b497-59f31b5fc2ea",
   "metadata": {},
   "source": [
    "## 4 Intersection Of Two Sorted Arrays"
   ]
  },
  {
   "cell_type": "code",
   "execution_count": 28,
   "id": "3e1b6fb4-122f-4458-a5c0-a9283829164b",
   "metadata": {},
   "outputs": [
    {
     "data": {
      "text/plain": [
       "[2, 7]"
      ]
     },
     "execution_count": 28,
     "metadata": {},
     "output_type": "execute_result"
    }
   ],
   "source": [
    "def get_intersection(numbers1, numbers2):\n",
    "    \"\"\"\n",
    "    Args:\n",
    "     numbers1(list_int32)\n",
    "     numbers2(list_int32)\n",
    "    Returns:\n",
    "     list_int32\n",
    "    \"\"\"\n",
    "    # Write your code here.\n",
    "    intersection_list = []\n",
    "    set_1 = set(numbers1)\n",
    "    set_2 = set(numbers2)\n",
    "    for num in set_1:\n",
    "        if num in set_2:\n",
    "            intersection_list.append(num)  \n",
    "    \n",
    "    if len(intersection_list)==0:\n",
    "        return [-1]\n",
    "\n",
    "    intersection_list.sort()\n",
    "\n",
    "    return intersection_list\n",
    "\n",
    "get_intersection([1, 2, 2, 6, 7],[5, 2,7, 7])"
   ]
  },
  {
   "cell_type": "markdown",
   "id": "65ea4951-39ee-4b55-9f8d-4abf945b9740",
   "metadata": {},
   "source": [
    "## 4 Intersection Of Two Sorted Arrays (Alternet Approach)"
   ]
  },
  {
   "cell_type": "code",
   "execution_count": 31,
   "id": "5d97d662-e9b4-42cd-a485-fc36f0984f51",
   "metadata": {},
   "outputs": [
    {
     "data": {
      "text/plain": [
       "[2, 7]"
      ]
     },
     "execution_count": 31,
     "metadata": {},
     "output_type": "execute_result"
    }
   ],
   "source": [
    "def get_intersection(numbers1, numbers2):\n",
    "    \"\"\"\n",
    "    Args:\n",
    "     numbers1(list_int32)\n",
    "     numbers2(list_int32)\n",
    "    Returns:\n",
    "     list_int32\n",
    "    \"\"\"\n",
    "    # Write your code here.\n",
    "    intersection_list = []\n",
    "    set_1 = set(numbers1)\n",
    "    set_2 = set(numbers2)\n",
    "\n",
    "    intersection_list = list(set_1.intersection(set_2))\n",
    "\n",
    "\n",
    "    intersection_list.sort()\n",
    "\n",
    "    return intersection_list\n",
    "\n",
    "get_intersection([1, 2, 2, 6, 7],[5, 2,7, 7])"
   ]
  },
  {
   "cell_type": "markdown",
   "id": "1190dfec-b890-44f7-b63e-246cae083628",
   "metadata": {},
   "source": [
    "## 4 Intersection Of Two Sorted Arrays (Two Pointer Approach)"
   ]
  },
  {
   "cell_type": "code",
   "execution_count": 3,
   "id": "adcfb5ea-7f11-4725-860c-6e154458f446",
   "metadata": {},
   "outputs": [
    {
     "data": {
      "text/plain": [
       "[2, 7]"
      ]
     },
     "execution_count": 3,
     "metadata": {},
     "output_type": "execute_result"
    }
   ],
   "source": [
    "def get_intersection(numbers1, numbers2):\n",
    "    \"\"\"\n",
    "    Args:\n",
    "     numbers1(list_int32)\n",
    "     numbers2(list_int32)\n",
    "    Returns:\n",
    "     list_int32\n",
    "    \"\"\"\n",
    "    # Write your code here.\n",
    "    intersection_list = []\n",
    "    index_1=0\n",
    "    index_2=0\n",
    "\n",
    "    while(index_1 < len(numbers1) and index_2<len(numbers2)):\n",
    "        if(numbers1[index_1] == numbers2[index_2] ):\n",
    "            if(numbers1[index_1] not in intersection_list):\n",
    "                intersection_list.append(numbers1[index_1])\n",
    "            index_1 +=1\n",
    "            index_2 +=1       \n",
    "                \n",
    "        elif(numbers1[index_1] > numbers2[index_2]):\n",
    "            index_2 +=1\n",
    "        else:\n",
    "            index_1 +=1\n",
    "\n",
    "    return intersection_list\n",
    "    \n",
    "get_intersection([1, 2, 2, 6, 7],[2, 2,7, 7])"
   ]
  },
  {
   "cell_type": "code",
   "execution_count": null,
   "id": "61ab4ebf-1e89-4980-b915-dc979e549c2c",
   "metadata": {},
   "outputs": [],
   "source": []
  },
  {
   "cell_type": "code",
   "execution_count": null,
   "id": "8f373eca-66a9-42f4-a585-978262a69dee",
   "metadata": {},
   "outputs": [],
   "source": []
  },
  {
   "cell_type": "markdown",
   "id": "43f8c02f-a1ec-40d8-bc2e-f050d9c579f7",
   "metadata": {},
   "source": [
    "## 5 Squares Of A Sorted Array"
   ]
  },
  {
   "cell_type": "code",
   "execution_count": 1,
   "id": "4b5f2404-5cd0-4325-af45-f4a95f4c1025",
   "metadata": {},
   "outputs": [
    {
     "data": {
      "text/plain": [
       "[4, 9, 16, 25, 36]"
      ]
     },
     "execution_count": 1,
     "metadata": {},
     "output_type": "execute_result"
    }
   ],
   "source": [
    "def generate_sorted_array_of_squares(numbers):\n",
    "    \"\"\"\n",
    "    Args:\n",
    "     numbers(list_int32)\n",
    "    Returns:\n",
    "     list_int32\n",
    "    \"\"\"\n",
    "    # Write your code here.\n",
    "    result = list(map(lambda num : num**2 ,numbers ))\n",
    "    result.sort()\n",
    "    return result\n",
    "\n",
    "generate_sorted_array_of_squares([2,4,3,5,6])"
   ]
  },
  {
   "cell_type": "markdown",
   "id": "7a6d9f63-82e3-4f13-9013-db8d4d2a5300",
   "metadata": {},
   "source": [
    "## 5 Squares Of A Sorted Array (Two pointer Approach)"
   ]
  },
  {
   "cell_type": "code",
   "execution_count": 26,
   "id": "36671d62-285c-410c-a5c5-072fbce3f66c",
   "metadata": {},
   "outputs": [
    {
     "data": {
      "text/plain": [
       "[1, 4, 36, 64, 81]"
      ]
     },
     "execution_count": 26,
     "metadata": {},
     "output_type": "execute_result"
    }
   ],
   "source": [
    "def generate_sorted_array_of_squares(numbers):\n",
    "    \"\"\"\n",
    "    Args:\n",
    "     numbers(list_int32)\n",
    "    Returns:\n",
    "     list_int32\n",
    "    \"\"\"\n",
    "    # Write your code here.\n",
    "    left, right = 0, len(numbers) - 1      \n",
    "    result = [0] * len(numbers)        \n",
    "    position = len(numbers) - 1\n",
    "        \n",
    "    while left <= right:\n",
    "        if (numbers[left]**2) > (numbers[right]**2):\n",
    "            result[position] = numbers[left] ** 2\n",
    "            left += 1                \n",
    "        else:\n",
    "            result[position] = numbers[right] ** 2\n",
    "            right -= 1                \n",
    "        position -= 1\n",
    "                \n",
    "    return result     \n",
    "\n",
    "\n",
    "generate_sorted_array_of_squares([-9,-8,1,2,6])"
   ]
  },
  {
   "cell_type": "code",
   "execution_count": null,
   "id": "31638df1-5553-42cb-bebe-1305daab0b76",
   "metadata": {},
   "outputs": [],
   "source": []
  },
  {
   "cell_type": "markdown",
   "id": "7733cf4b-3ffd-4ff5-83e0-65a8b27f069e",
   "metadata": {},
   "source": [
    "## 6 Single Number"
   ]
  },
  {
   "cell_type": "code",
   "execution_count": 25,
   "id": "2e578144-8676-42b0-816f-5b11ddd31384",
   "metadata": {},
   "outputs": [
    {
     "data": {
      "text/plain": [
       "5"
      ]
     },
     "execution_count": 25,
     "metadata": {},
     "output_type": "execute_result"
    }
   ],
   "source": [
    "def single_number(arr):\n",
    "    \"\"\"\n",
    "    Args:\n",
    "     arr(list_int32)\n",
    "    Returns:\n",
    "     int32\n",
    "    \"\"\"\n",
    "    # Write your code here.\n",
    "    dict_1 ={}\n",
    "    for num in arr:\n",
    "        if num in dict_1:\n",
    "            dict_1[num] += 1\n",
    "        else:\n",
    "           dict_1[num] = 1\n",
    "    \n",
    "    for key,val in dict_1.items():\n",
    "        if val == 1:\n",
    "            return key\n",
    "\n",
    "single_number([2, 1, 2, 5, 1])"
   ]
  },
  {
   "cell_type": "markdown",
   "id": "c345e917-fece-41d7-8c7c-f5c735489c42",
   "metadata": {},
   "source": [
    "## 6 Single Number (Linear time complexcity without using any extra space)"
   ]
  },
  {
   "cell_type": "code",
   "execution_count": 24,
   "id": "29553be2-dbb0-4194-993a-f39eef33f767",
   "metadata": {},
   "outputs": [
    {
     "data": {
      "text/plain": [
       "5"
      ]
     },
     "execution_count": 24,
     "metadata": {},
     "output_type": "execute_result"
    }
   ],
   "source": [
    "def single_number(arr):\n",
    "    \"\"\"\n",
    "    Args:\n",
    "     arr(list_int32)\n",
    "    Returns:\n",
    "     int32\n",
    "    \"\"\"\n",
    "    # Write your code here.\n",
    "\n",
    "    return sum(set(arr))*2 - sum(arr)\n",
    "\n",
    "\n",
    "single_number([2, 1, 2, 5, 1])"
   ]
  },
  {
   "cell_type": "code",
   "execution_count": null,
   "id": "bfaeb09b-915f-44f1-9cb6-6606ea0e7e74",
   "metadata": {},
   "outputs": [],
   "source": []
  },
  {
   "cell_type": "markdown",
   "id": "79c1452e-6cb0-4090-a2ff-22c86928f0d6",
   "metadata": {},
   "source": [
    "## 7 Maximum Sum Subarray"
   ]
  },
  {
   "cell_type": "code",
   "execution_count": 11,
   "id": "1d8ccd06-476a-466b-ab75-857e7c2556a3",
   "metadata": {},
   "outputs": [
    {
     "data": {
      "text/plain": [
       "12"
      ]
     },
     "execution_count": 11,
     "metadata": {},
     "output_type": "execute_result"
    }
   ],
   "source": [
    "def find_maximum_sum_subarray(numbers):\n",
    "    \"\"\"\n",
    "    Args:\n",
    "     numbers(list_int32)\n",
    "    Returns:\n",
    "     int32\n",
    "    \"\"\"\n",
    "    # Write your code here.\n",
    "    curr_sum_subarray = 0\n",
    "    max_sum_subarray = numbers[0]  \n",
    "    \n",
    "    for num in numbers:\n",
    "        curr_sum_subarray = max(curr_sum_subarray+num,num)        \n",
    "        max_sum_subarray = max(curr_sum_subarray,max_sum_subarray)\n",
    "    return max_sum_subarray\n",
    "\n",
    "find_maximum_sum_subarray([2, -6, 3, 4, 5, -5])"
   ]
  },
  {
   "cell_type": "markdown",
   "id": "1226295c-43c8-4511-8f72-22c6abb8a495",
   "metadata": {},
   "source": [
    "## 8 Find Winner Of Election"
   ]
  },
  {
   "cell_type": "code",
   "execution_count": 14,
   "id": "4493601d-312e-4368-857d-8d8d1a44b029",
   "metadata": {},
   "outputs": [
    {
     "data": {
      "text/plain": [
       "'johnny'"
      ]
     },
     "execution_count": 14,
     "metadata": {},
     "output_type": "execute_result"
    }
   ],
   "source": [
    "def find_winner(votes):\n",
    "    candidate_vote_map={}\n",
    "    max_vote = 0\n",
    "    win_candidate = \"\"\n",
    "    for vote in votes:\n",
    "        if vote in candidate_vote_map.keys():            \n",
    "            candidate_vote_map[vote] +=1\n",
    "        else:\n",
    "            candidate_vote_map[vote] =1\n",
    "\n",
    "    for key , val in candidate_vote_map.items():\n",
    "        if val >= max_vote:\n",
    "            max_vote = val\n",
    "            win_candidate = key\n",
    "            \n",
    "    return win_candidate\n",
    "\n",
    "find_winner ([\"john\", \"johnny\", \"jackie\", \"johnny\", \"john\", \"jackie\", \"jamie\", \"jamie\", \"john\", \"johnny\", \"jamie\", \"johnny\", \"john\"]) "
   ]
  },
  {
   "cell_type": "markdown",
   "id": "737fcac2-d095-42dc-ad40-49d602ebe7a9",
   "metadata": {},
   "source": [
    "## Advance Assignment "
   ]
  },
  {
   "cell_type": "code",
   "execution_count": null,
   "id": "91d76985-784d-4fe7-9b66-fd79550eb33e",
   "metadata": {},
   "outputs": [],
   "source": [
    "def reverse_string_without_vowels(input_string):\n",
    "\tvowels = \"AEIOUaeiou\"\n",
    "\tnew_string = \"\"\n",
    "\tfor char in input_string:\n",
    "\t\tif char not in vowels:\n",
    "\t\t\tnew_string += char \n",
    "\n",
    "\treturn new_string[::-1]\n",
    "\n",
    "def rever_list_of_string_without_vowels(input_string):\n",
    "    words = input_string.split()\n",
    "    list_of_string = list(map(lambda word : reverse_string_without_vowels(word),words))\n",
    "    return list_of_string\n",
    "\n",
    "\n",
    "rever_list_of_string_without_vowels(\"wold is beautyful\")"
   ]
  },
  {
   "cell_type": "code",
   "execution_count": 17,
   "id": "a79caa6f-3cc7-4a46-90cc-dac332d64984",
   "metadata": {},
   "outputs": [
    {
     "data": {
      "text/plain": [
       "[12, -10]"
      ]
     },
     "execution_count": 17,
     "metadata": {},
     "output_type": "execute_result"
    }
   ],
   "source": [
    "from functools import reduce\n",
    "def product_positive_sum_negative(nums):\n",
    "    list_of_positive = list(filter(lambda num : num>0 , nums))\n",
    "    list_of_negative = list(filter(lambda num : num<0 , nums))\n",
    "\n",
    "    product_of_positive = reduce((lambda x, y: x * y), list_of_positive)\n",
    "    sum_of_negative = reduce((lambda x, y: x + y), list_of_negative)\n",
    "\n",
    "    return [product_of_positive,sum_of_negative]\n",
    "\n",
    "\n",
    "product_positive_sum_negative([2,3,-4,2,-6,1])  "
   ]
  },
  {
   "cell_type": "code",
   "execution_count": 22,
   "id": "5b81046f-92d3-4cf8-a17e-881dd502612e",
   "metadata": {},
   "outputs": [
    {
     "name": "stdout",
     "output_type": "stream",
     "text": [
      "[1, 4, 9, 16, 25]\n",
      "[1, 3, 5]\n"
     ]
    }
   ],
   "source": [
    "numbers = [1, 2, 3, 4, 5]\n",
    "\n",
    "\n",
    "print([num**2 for num in numbers ])\n",
    "\n",
    "print([num for num in numbers if num%2!=0])\n"
   ]
  },
  {
   "cell_type": "code",
   "execution_count": null,
   "id": "6456fbc0-9c49-4df4-8980-e125170272de",
   "metadata": {},
   "outputs": [],
   "source": [
    "l"
   ]
  },
  {
   "cell_type": "code",
   "execution_count": null,
   "id": "4778824f-4f19-4e5e-a67c-4a0fd3dca26d",
   "metadata": {},
   "outputs": [],
   "source": []
  },
  {
   "cell_type": "code",
   "execution_count": null,
   "id": "346d1d0e-90f9-4cfa-b84c-1527d69a6691",
   "metadata": {},
   "outputs": [],
   "source": []
  },
  {
   "cell_type": "code",
   "execution_count": null,
   "id": "34ea31ee-6945-4d29-936f-d63a1d2deca6",
   "metadata": {},
   "outputs": [],
   "source": []
  },
  {
   "cell_type": "code",
   "execution_count": null,
   "id": "e339e4ff-47fe-410a-86f2-9d399ad982b2",
   "metadata": {},
   "outputs": [],
   "source": []
  },
  {
   "cell_type": "code",
   "execution_count": null,
   "id": "44476e59-7872-4e76-8fbd-5a7b2ce8e693",
   "metadata": {},
   "outputs": [],
   "source": []
  },
  {
   "cell_type": "code",
   "execution_count": null,
   "id": "2bfce71c-1626-417d-b4a9-6571925e996d",
   "metadata": {},
   "outputs": [],
   "source": []
  },
  {
   "cell_type": "code",
   "execution_count": null,
   "id": "008e4ac8-8d2c-4eaa-921e-453fcfeff0a9",
   "metadata": {},
   "outputs": [],
   "source": []
  },
  {
   "cell_type": "code",
   "execution_count": null,
   "id": "5db03851-b700-43d8-9c64-e5536073cc30",
   "metadata": {},
   "outputs": [],
   "source": []
  },
  {
   "cell_type": "code",
   "execution_count": null,
   "id": "9aa9850a-d09d-41d6-971a-6c40e9af212c",
   "metadata": {},
   "outputs": [],
   "source": []
  },
  {
   "cell_type": "code",
   "execution_count": null,
   "id": "c98cc6fb-8cec-47b9-86b1-693b3a4670ea",
   "metadata": {},
   "outputs": [],
   "source": []
  }
 ],
 "metadata": {
  "kernelspec": {
   "display_name": "Python 3 (ipykernel)",
   "language": "python",
   "name": "python3"
  },
  "language_info": {
   "codemirror_mode": {
    "name": "ipython",
    "version": 3
   },
   "file_extension": ".py",
   "mimetype": "text/x-python",
   "name": "python",
   "nbconvert_exporter": "python",
   "pygments_lexer": "ipython3",
   "version": "3.12.4"
  }
 },
 "nbformat": 4,
 "nbformat_minor": 5
}
